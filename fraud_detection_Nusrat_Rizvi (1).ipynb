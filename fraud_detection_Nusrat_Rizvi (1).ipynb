{
  "nbformat": 4,
  "nbformat_minor": 0,
  "metadata": {
    "colab": {
      "provenance": []
    },
    "kernelspec": {
      "name": "python3",
      "display_name": "Python 3"
    },
    "language_info": {
      "name": "python"
    }
  },
  "cells": [
    {
      "cell_type": "code",
      "execution_count": 5,
      "metadata": {
        "id": "NeNTv-3N694B"
      },
      "outputs": [],
      "source": [
        "import numpy as np\n",
        "import matplotlib.pyplot as plt\n",
        "import pandas as pd\n"
      ]
    },
    {
      "cell_type": "code",
      "source": [
        "df = pd.read_csv('/content/drive/MyDrive/Fraud.csv')\n",
        "df.head()"
      ],
      "metadata": {
        "colab": {
          "base_uri": "https://localhost:8080/",
          "height": 206
        },
        "id": "NWdHnxlu75dI",
        "outputId": "83660e0e-1c29-4add-e3e9-b9f2a801d6e8"
      },
      "execution_count": 6,
      "outputs": [
        {
          "output_type": "execute_result",
          "data": {
            "text/plain": [
              "   step      type    amount     nameOrig  oldbalanceOrg  newbalanceOrig  \\\n",
              "0     1   PAYMENT   9839.64  C1231006815       170136.0       160296.36   \n",
              "1     1   PAYMENT   1864.28  C1666544295        21249.0        19384.72   \n",
              "2     1  TRANSFER    181.00  C1305486145          181.0            0.00   \n",
              "3     1  CASH_OUT    181.00   C840083671          181.0            0.00   \n",
              "4     1   PAYMENT  11668.14  C2048537720        41554.0        29885.86   \n",
              "\n",
              "      nameDest  oldbalanceDest  newbalanceDest  isFraud  isFlaggedFraud  \n",
              "0  M1979787155             0.0             0.0        0               0  \n",
              "1  M2044282225             0.0             0.0        0               0  \n",
              "2   C553264065             0.0             0.0        1               0  \n",
              "3    C38997010         21182.0             0.0        1               0  \n",
              "4  M1230701703             0.0             0.0        0               0  "
            ],
            "text/html": [
              "\n",
              "  <div id=\"df-c1e2cb1a-17bc-4d3a-8f99-50b6690f11d5\" class=\"colab-df-container\">\n",
              "    <div>\n",
              "<style scoped>\n",
              "    .dataframe tbody tr th:only-of-type {\n",
              "        vertical-align: middle;\n",
              "    }\n",
              "\n",
              "    .dataframe tbody tr th {\n",
              "        vertical-align: top;\n",
              "    }\n",
              "\n",
              "    .dataframe thead th {\n",
              "        text-align: right;\n",
              "    }\n",
              "</style>\n",
              "<table border=\"1\" class=\"dataframe\">\n",
              "  <thead>\n",
              "    <tr style=\"text-align: right;\">\n",
              "      <th></th>\n",
              "      <th>step</th>\n",
              "      <th>type</th>\n",
              "      <th>amount</th>\n",
              "      <th>nameOrig</th>\n",
              "      <th>oldbalanceOrg</th>\n",
              "      <th>newbalanceOrig</th>\n",
              "      <th>nameDest</th>\n",
              "      <th>oldbalanceDest</th>\n",
              "      <th>newbalanceDest</th>\n",
              "      <th>isFraud</th>\n",
              "      <th>isFlaggedFraud</th>\n",
              "    </tr>\n",
              "  </thead>\n",
              "  <tbody>\n",
              "    <tr>\n",
              "      <th>0</th>\n",
              "      <td>1</td>\n",
              "      <td>PAYMENT</td>\n",
              "      <td>9839.64</td>\n",
              "      <td>C1231006815</td>\n",
              "      <td>170136.0</td>\n",
              "      <td>160296.36</td>\n",
              "      <td>M1979787155</td>\n",
              "      <td>0.0</td>\n",
              "      <td>0.0</td>\n",
              "      <td>0</td>\n",
              "      <td>0</td>\n",
              "    </tr>\n",
              "    <tr>\n",
              "      <th>1</th>\n",
              "      <td>1</td>\n",
              "      <td>PAYMENT</td>\n",
              "      <td>1864.28</td>\n",
              "      <td>C1666544295</td>\n",
              "      <td>21249.0</td>\n",
              "      <td>19384.72</td>\n",
              "      <td>M2044282225</td>\n",
              "      <td>0.0</td>\n",
              "      <td>0.0</td>\n",
              "      <td>0</td>\n",
              "      <td>0</td>\n",
              "    </tr>\n",
              "    <tr>\n",
              "      <th>2</th>\n",
              "      <td>1</td>\n",
              "      <td>TRANSFER</td>\n",
              "      <td>181.00</td>\n",
              "      <td>C1305486145</td>\n",
              "      <td>181.0</td>\n",
              "      <td>0.00</td>\n",
              "      <td>C553264065</td>\n",
              "      <td>0.0</td>\n",
              "      <td>0.0</td>\n",
              "      <td>1</td>\n",
              "      <td>0</td>\n",
              "    </tr>\n",
              "    <tr>\n",
              "      <th>3</th>\n",
              "      <td>1</td>\n",
              "      <td>CASH_OUT</td>\n",
              "      <td>181.00</td>\n",
              "      <td>C840083671</td>\n",
              "      <td>181.0</td>\n",
              "      <td>0.00</td>\n",
              "      <td>C38997010</td>\n",
              "      <td>21182.0</td>\n",
              "      <td>0.0</td>\n",
              "      <td>1</td>\n",
              "      <td>0</td>\n",
              "    </tr>\n",
              "    <tr>\n",
              "      <th>4</th>\n",
              "      <td>1</td>\n",
              "      <td>PAYMENT</td>\n",
              "      <td>11668.14</td>\n",
              "      <td>C2048537720</td>\n",
              "      <td>41554.0</td>\n",
              "      <td>29885.86</td>\n",
              "      <td>M1230701703</td>\n",
              "      <td>0.0</td>\n",
              "      <td>0.0</td>\n",
              "      <td>0</td>\n",
              "      <td>0</td>\n",
              "    </tr>\n",
              "  </tbody>\n",
              "</table>\n",
              "</div>\n",
              "    <div class=\"colab-df-buttons\">\n",
              "\n",
              "  <div class=\"colab-df-container\">\n",
              "    <button class=\"colab-df-convert\" onclick=\"convertToInteractive('df-c1e2cb1a-17bc-4d3a-8f99-50b6690f11d5')\"\n",
              "            title=\"Convert this dataframe to an interactive table.\"\n",
              "            style=\"display:none;\">\n",
              "\n",
              "  <svg xmlns=\"http://www.w3.org/2000/svg\" height=\"24px\" viewBox=\"0 -960 960 960\">\n",
              "    <path d=\"M120-120v-720h720v720H120Zm60-500h600v-160H180v160Zm220 220h160v-160H400v160Zm0 220h160v-160H400v160ZM180-400h160v-160H180v160Zm440 0h160v-160H620v160ZM180-180h160v-160H180v160Zm440 0h160v-160H620v160Z\"/>\n",
              "  </svg>\n",
              "    </button>\n",
              "\n",
              "  <style>\n",
              "    .colab-df-container {\n",
              "      display:flex;\n",
              "      gap: 12px;\n",
              "    }\n",
              "\n",
              "    .colab-df-convert {\n",
              "      background-color: #E8F0FE;\n",
              "      border: none;\n",
              "      border-radius: 50%;\n",
              "      cursor: pointer;\n",
              "      display: none;\n",
              "      fill: #1967D2;\n",
              "      height: 32px;\n",
              "      padding: 0 0 0 0;\n",
              "      width: 32px;\n",
              "    }\n",
              "\n",
              "    .colab-df-convert:hover {\n",
              "      background-color: #E2EBFA;\n",
              "      box-shadow: 0px 1px 2px rgba(60, 64, 67, 0.3), 0px 1px 3px 1px rgba(60, 64, 67, 0.15);\n",
              "      fill: #174EA6;\n",
              "    }\n",
              "\n",
              "    .colab-df-buttons div {\n",
              "      margin-bottom: 4px;\n",
              "    }\n",
              "\n",
              "    [theme=dark] .colab-df-convert {\n",
              "      background-color: #3B4455;\n",
              "      fill: #D2E3FC;\n",
              "    }\n",
              "\n",
              "    [theme=dark] .colab-df-convert:hover {\n",
              "      background-color: #434B5C;\n",
              "      box-shadow: 0px 1px 3px 1px rgba(0, 0, 0, 0.15);\n",
              "      filter: drop-shadow(0px 1px 2px rgba(0, 0, 0, 0.3));\n",
              "      fill: #FFFFFF;\n",
              "    }\n",
              "  </style>\n",
              "\n",
              "    <script>\n",
              "      const buttonEl =\n",
              "        document.querySelector('#df-c1e2cb1a-17bc-4d3a-8f99-50b6690f11d5 button.colab-df-convert');\n",
              "      buttonEl.style.display =\n",
              "        google.colab.kernel.accessAllowed ? 'block' : 'none';\n",
              "\n",
              "      async function convertToInteractive(key) {\n",
              "        const element = document.querySelector('#df-c1e2cb1a-17bc-4d3a-8f99-50b6690f11d5');\n",
              "        const dataTable =\n",
              "          await google.colab.kernel.invokeFunction('convertToInteractive',\n",
              "                                                    [key], {});\n",
              "        if (!dataTable) return;\n",
              "\n",
              "        const docLinkHtml = 'Like what you see? Visit the ' +\n",
              "          '<a target=\"_blank\" href=https://colab.research.google.com/notebooks/data_table.ipynb>data table notebook</a>'\n",
              "          + ' to learn more about interactive tables.';\n",
              "        element.innerHTML = '';\n",
              "        dataTable['output_type'] = 'display_data';\n",
              "        await google.colab.output.renderOutput(dataTable, element);\n",
              "        const docLink = document.createElement('div');\n",
              "        docLink.innerHTML = docLinkHtml;\n",
              "        element.appendChild(docLink);\n",
              "      }\n",
              "    </script>\n",
              "  </div>\n",
              "\n",
              "\n",
              "    <div id=\"df-f693ecb1-5f6a-49ba-874e-6f4cfe4f2ec4\">\n",
              "      <button class=\"colab-df-quickchart\" onclick=\"quickchart('df-f693ecb1-5f6a-49ba-874e-6f4cfe4f2ec4')\"\n",
              "                title=\"Suggest charts\"\n",
              "                style=\"display:none;\">\n",
              "\n",
              "<svg xmlns=\"http://www.w3.org/2000/svg\" height=\"24px\"viewBox=\"0 0 24 24\"\n",
              "     width=\"24px\">\n",
              "    <g>\n",
              "        <path d=\"M19 3H5c-1.1 0-2 .9-2 2v14c0 1.1.9 2 2 2h14c1.1 0 2-.9 2-2V5c0-1.1-.9-2-2-2zM9 17H7v-7h2v7zm4 0h-2V7h2v10zm4 0h-2v-4h2v4z\"/>\n",
              "    </g>\n",
              "</svg>\n",
              "      </button>\n",
              "\n",
              "<style>\n",
              "  .colab-df-quickchart {\n",
              "      --bg-color: #E8F0FE;\n",
              "      --fill-color: #1967D2;\n",
              "      --hover-bg-color: #E2EBFA;\n",
              "      --hover-fill-color: #174EA6;\n",
              "      --disabled-fill-color: #AAA;\n",
              "      --disabled-bg-color: #DDD;\n",
              "  }\n",
              "\n",
              "  [theme=dark] .colab-df-quickchart {\n",
              "      --bg-color: #3B4455;\n",
              "      --fill-color: #D2E3FC;\n",
              "      --hover-bg-color: #434B5C;\n",
              "      --hover-fill-color: #FFFFFF;\n",
              "      --disabled-bg-color: #3B4455;\n",
              "      --disabled-fill-color: #666;\n",
              "  }\n",
              "\n",
              "  .colab-df-quickchart {\n",
              "    background-color: var(--bg-color);\n",
              "    border: none;\n",
              "    border-radius: 50%;\n",
              "    cursor: pointer;\n",
              "    display: none;\n",
              "    fill: var(--fill-color);\n",
              "    height: 32px;\n",
              "    padding: 0;\n",
              "    width: 32px;\n",
              "  }\n",
              "\n",
              "  .colab-df-quickchart:hover {\n",
              "    background-color: var(--hover-bg-color);\n",
              "    box-shadow: 0 1px 2px rgba(60, 64, 67, 0.3), 0 1px 3px 1px rgba(60, 64, 67, 0.15);\n",
              "    fill: var(--button-hover-fill-color);\n",
              "  }\n",
              "\n",
              "  .colab-df-quickchart-complete:disabled,\n",
              "  .colab-df-quickchart-complete:disabled:hover {\n",
              "    background-color: var(--disabled-bg-color);\n",
              "    fill: var(--disabled-fill-color);\n",
              "    box-shadow: none;\n",
              "  }\n",
              "\n",
              "  .colab-df-spinner {\n",
              "    border: 2px solid var(--fill-color);\n",
              "    border-color: transparent;\n",
              "    border-bottom-color: var(--fill-color);\n",
              "    animation:\n",
              "      spin 1s steps(1) infinite;\n",
              "  }\n",
              "\n",
              "  @keyframes spin {\n",
              "    0% {\n",
              "      border-color: transparent;\n",
              "      border-bottom-color: var(--fill-color);\n",
              "      border-left-color: var(--fill-color);\n",
              "    }\n",
              "    20% {\n",
              "      border-color: transparent;\n",
              "      border-left-color: var(--fill-color);\n",
              "      border-top-color: var(--fill-color);\n",
              "    }\n",
              "    30% {\n",
              "      border-color: transparent;\n",
              "      border-left-color: var(--fill-color);\n",
              "      border-top-color: var(--fill-color);\n",
              "      border-right-color: var(--fill-color);\n",
              "    }\n",
              "    40% {\n",
              "      border-color: transparent;\n",
              "      border-right-color: var(--fill-color);\n",
              "      border-top-color: var(--fill-color);\n",
              "    }\n",
              "    60% {\n",
              "      border-color: transparent;\n",
              "      border-right-color: var(--fill-color);\n",
              "    }\n",
              "    80% {\n",
              "      border-color: transparent;\n",
              "      border-right-color: var(--fill-color);\n",
              "      border-bottom-color: var(--fill-color);\n",
              "    }\n",
              "    90% {\n",
              "      border-color: transparent;\n",
              "      border-bottom-color: var(--fill-color);\n",
              "    }\n",
              "  }\n",
              "</style>\n",
              "\n",
              "      <script>\n",
              "        async function quickchart(key) {\n",
              "          const quickchartButtonEl =\n",
              "            document.querySelector('#' + key + ' button');\n",
              "          quickchartButtonEl.disabled = true;  // To prevent multiple clicks.\n",
              "          quickchartButtonEl.classList.add('colab-df-spinner');\n",
              "          try {\n",
              "            const charts = await google.colab.kernel.invokeFunction(\n",
              "                'suggestCharts', [key], {});\n",
              "          } catch (error) {\n",
              "            console.error('Error during call to suggestCharts:', error);\n",
              "          }\n",
              "          quickchartButtonEl.classList.remove('colab-df-spinner');\n",
              "          quickchartButtonEl.classList.add('colab-df-quickchart-complete');\n",
              "        }\n",
              "        (() => {\n",
              "          let quickchartButtonEl =\n",
              "            document.querySelector('#df-f693ecb1-5f6a-49ba-874e-6f4cfe4f2ec4 button');\n",
              "          quickchartButtonEl.style.display =\n",
              "            google.colab.kernel.accessAllowed ? 'block' : 'none';\n",
              "        })();\n",
              "      </script>\n",
              "    </div>\n",
              "\n",
              "    </div>\n",
              "  </div>\n"
            ],
            "application/vnd.google.colaboratory.intrinsic+json": {
              "type": "dataframe",
              "variable_name": "df"
            }
          },
          "metadata": {},
          "execution_count": 6
        }
      ]
    },
    {
      "cell_type": "code",
      "source": [
        "df.shape"
      ],
      "metadata": {
        "colab": {
          "base_uri": "https://localhost:8080/"
        },
        "id": "jPOpHcUE8RYM",
        "outputId": "4d140f83-c700-4118-81c5-e46a3fe32b8e"
      },
      "execution_count": 7,
      "outputs": [
        {
          "output_type": "execute_result",
          "data": {
            "text/plain": [
              "(6362620, 11)"
            ]
          },
          "metadata": {},
          "execution_count": 7
        }
      ]
    },
    {
      "cell_type": "code",
      "source": [
        "df.columns"
      ],
      "metadata": {
        "colab": {
          "base_uri": "https://localhost:8080/"
        },
        "id": "OpD4UALZ8UYr",
        "outputId": "5f7d7c27-aca5-4403-d14b-04d3bec2ea30"
      },
      "execution_count": 8,
      "outputs": [
        {
          "output_type": "execute_result",
          "data": {
            "text/plain": [
              "Index(['step', 'type', 'amount', 'nameOrig', 'oldbalanceOrg', 'newbalanceOrig',\n",
              "       'nameDest', 'oldbalanceDest', 'newbalanceDest', 'isFraud',\n",
              "       'isFlaggedFraud'],\n",
              "      dtype='object')"
            ]
          },
          "metadata": {},
          "execution_count": 8
        }
      ]
    },
    {
      "cell_type": "code",
      "source": [
        "print(df.isnull().sum())"
      ],
      "metadata": {
        "colab": {
          "base_uri": "https://localhost:8080/"
        },
        "id": "zcrPROqKP4nj",
        "outputId": "2c28c29e-ead3-4c17-eda9-8309548d90d6"
      },
      "execution_count": 9,
      "outputs": [
        {
          "output_type": "stream",
          "name": "stdout",
          "text": [
            "step              0\n",
            "type              0\n",
            "amount            0\n",
            "nameOrig          0\n",
            "oldbalanceOrg     0\n",
            "newbalanceOrig    0\n",
            "nameDest          0\n",
            "oldbalanceDest    0\n",
            "newbalanceDest    0\n",
            "isFraud           0\n",
            "isFlaggedFraud    0\n",
            "dtype: int64\n"
          ]
        }
      ]
    },
    {
      "cell_type": "code",
      "source": [
        "print(\"Duplicates:\", df.duplicated().sum())"
      ],
      "metadata": {
        "colab": {
          "base_uri": "https://localhost:8080/"
        },
        "id": "j6WRKYHBQJCw",
        "outputId": "9ef4f5fc-3550-4394-a1d3-f2b942613528"
      },
      "execution_count": 10,
      "outputs": [
        {
          "output_type": "stream",
          "name": "stdout",
          "text": [
            "Duplicates: 0\n"
          ]
        }
      ]
    },
    {
      "cell_type": "code",
      "source": [
        "df.drop(['nameOrig', 'nameDest'], axis=1, inplace=True)"
      ],
      "metadata": {
        "id": "rFcK2cWTSKg8"
      },
      "execution_count": 11,
      "outputs": []
    },
    {
      "cell_type": "code",
      "source": [
        "pd.set_option('display.float_format', '{:.2f}'.format)\n",
        "df.describe()\n"
      ],
      "metadata": {
        "colab": {
          "base_uri": "https://localhost:8080/",
          "height": 300
        },
        "id": "7wEV6VJ2SAbD",
        "outputId": "545c6fae-a052-4cab-e51d-e7027aeafe3e"
      },
      "execution_count": 12,
      "outputs": [
        {
          "output_type": "execute_result",
          "data": {
            "text/plain": [
              "            step      amount  oldbalanceOrg  newbalanceOrig  oldbalanceDest  \\\n",
              "count 6362620.00  6362620.00     6362620.00      6362620.00      6362620.00   \n",
              "mean      243.40   179861.90      833883.10       855113.67      1100701.67   \n",
              "std       142.33   603858.23     2888242.67      2924048.50      3399180.11   \n",
              "min         1.00        0.00           0.00            0.00            0.00   \n",
              "25%       156.00    13389.57           0.00            0.00            0.00   \n",
              "50%       239.00    74871.94       14208.00            0.00       132705.66   \n",
              "75%       335.00   208721.48      107315.18       144258.41       943036.71   \n",
              "max       743.00 92445516.64    59585040.37     49585040.37    356015889.35   \n",
              "\n",
              "       newbalanceDest    isFraud  isFlaggedFraud  \n",
              "count      6362620.00 6362620.00      6362620.00  \n",
              "mean       1224996.40       0.00            0.00  \n",
              "std        3674128.94       0.04            0.00  \n",
              "min              0.00       0.00            0.00  \n",
              "25%              0.00       0.00            0.00  \n",
              "50%         214661.44       0.00            0.00  \n",
              "75%        1111909.25       0.00            0.00  \n",
              "max      356179278.92       1.00            1.00  "
            ],
            "text/html": [
              "\n",
              "  <div id=\"df-ec9d46e2-9094-485d-9cf9-af153299e272\" class=\"colab-df-container\">\n",
              "    <div>\n",
              "<style scoped>\n",
              "    .dataframe tbody tr th:only-of-type {\n",
              "        vertical-align: middle;\n",
              "    }\n",
              "\n",
              "    .dataframe tbody tr th {\n",
              "        vertical-align: top;\n",
              "    }\n",
              "\n",
              "    .dataframe thead th {\n",
              "        text-align: right;\n",
              "    }\n",
              "</style>\n",
              "<table border=\"1\" class=\"dataframe\">\n",
              "  <thead>\n",
              "    <tr style=\"text-align: right;\">\n",
              "      <th></th>\n",
              "      <th>step</th>\n",
              "      <th>amount</th>\n",
              "      <th>oldbalanceOrg</th>\n",
              "      <th>newbalanceOrig</th>\n",
              "      <th>oldbalanceDest</th>\n",
              "      <th>newbalanceDest</th>\n",
              "      <th>isFraud</th>\n",
              "      <th>isFlaggedFraud</th>\n",
              "    </tr>\n",
              "  </thead>\n",
              "  <tbody>\n",
              "    <tr>\n",
              "      <th>count</th>\n",
              "      <td>6362620.00</td>\n",
              "      <td>6362620.00</td>\n",
              "      <td>6362620.00</td>\n",
              "      <td>6362620.00</td>\n",
              "      <td>6362620.00</td>\n",
              "      <td>6362620.00</td>\n",
              "      <td>6362620.00</td>\n",
              "      <td>6362620.00</td>\n",
              "    </tr>\n",
              "    <tr>\n",
              "      <th>mean</th>\n",
              "      <td>243.40</td>\n",
              "      <td>179861.90</td>\n",
              "      <td>833883.10</td>\n",
              "      <td>855113.67</td>\n",
              "      <td>1100701.67</td>\n",
              "      <td>1224996.40</td>\n",
              "      <td>0.00</td>\n",
              "      <td>0.00</td>\n",
              "    </tr>\n",
              "    <tr>\n",
              "      <th>std</th>\n",
              "      <td>142.33</td>\n",
              "      <td>603858.23</td>\n",
              "      <td>2888242.67</td>\n",
              "      <td>2924048.50</td>\n",
              "      <td>3399180.11</td>\n",
              "      <td>3674128.94</td>\n",
              "      <td>0.04</td>\n",
              "      <td>0.00</td>\n",
              "    </tr>\n",
              "    <tr>\n",
              "      <th>min</th>\n",
              "      <td>1.00</td>\n",
              "      <td>0.00</td>\n",
              "      <td>0.00</td>\n",
              "      <td>0.00</td>\n",
              "      <td>0.00</td>\n",
              "      <td>0.00</td>\n",
              "      <td>0.00</td>\n",
              "      <td>0.00</td>\n",
              "    </tr>\n",
              "    <tr>\n",
              "      <th>25%</th>\n",
              "      <td>156.00</td>\n",
              "      <td>13389.57</td>\n",
              "      <td>0.00</td>\n",
              "      <td>0.00</td>\n",
              "      <td>0.00</td>\n",
              "      <td>0.00</td>\n",
              "      <td>0.00</td>\n",
              "      <td>0.00</td>\n",
              "    </tr>\n",
              "    <tr>\n",
              "      <th>50%</th>\n",
              "      <td>239.00</td>\n",
              "      <td>74871.94</td>\n",
              "      <td>14208.00</td>\n",
              "      <td>0.00</td>\n",
              "      <td>132705.66</td>\n",
              "      <td>214661.44</td>\n",
              "      <td>0.00</td>\n",
              "      <td>0.00</td>\n",
              "    </tr>\n",
              "    <tr>\n",
              "      <th>75%</th>\n",
              "      <td>335.00</td>\n",
              "      <td>208721.48</td>\n",
              "      <td>107315.18</td>\n",
              "      <td>144258.41</td>\n",
              "      <td>943036.71</td>\n",
              "      <td>1111909.25</td>\n",
              "      <td>0.00</td>\n",
              "      <td>0.00</td>\n",
              "    </tr>\n",
              "    <tr>\n",
              "      <th>max</th>\n",
              "      <td>743.00</td>\n",
              "      <td>92445516.64</td>\n",
              "      <td>59585040.37</td>\n",
              "      <td>49585040.37</td>\n",
              "      <td>356015889.35</td>\n",
              "      <td>356179278.92</td>\n",
              "      <td>1.00</td>\n",
              "      <td>1.00</td>\n",
              "    </tr>\n",
              "  </tbody>\n",
              "</table>\n",
              "</div>\n",
              "    <div class=\"colab-df-buttons\">\n",
              "\n",
              "  <div class=\"colab-df-container\">\n",
              "    <button class=\"colab-df-convert\" onclick=\"convertToInteractive('df-ec9d46e2-9094-485d-9cf9-af153299e272')\"\n",
              "            title=\"Convert this dataframe to an interactive table.\"\n",
              "            style=\"display:none;\">\n",
              "\n",
              "  <svg xmlns=\"http://www.w3.org/2000/svg\" height=\"24px\" viewBox=\"0 -960 960 960\">\n",
              "    <path d=\"M120-120v-720h720v720H120Zm60-500h600v-160H180v160Zm220 220h160v-160H400v160Zm0 220h160v-160H400v160ZM180-400h160v-160H180v160Zm440 0h160v-160H620v160ZM180-180h160v-160H180v160Zm440 0h160v-160H620v160Z\"/>\n",
              "  </svg>\n",
              "    </button>\n",
              "\n",
              "  <style>\n",
              "    .colab-df-container {\n",
              "      display:flex;\n",
              "      gap: 12px;\n",
              "    }\n",
              "\n",
              "    .colab-df-convert {\n",
              "      background-color: #E8F0FE;\n",
              "      border: none;\n",
              "      border-radius: 50%;\n",
              "      cursor: pointer;\n",
              "      display: none;\n",
              "      fill: #1967D2;\n",
              "      height: 32px;\n",
              "      padding: 0 0 0 0;\n",
              "      width: 32px;\n",
              "    }\n",
              "\n",
              "    .colab-df-convert:hover {\n",
              "      background-color: #E2EBFA;\n",
              "      box-shadow: 0px 1px 2px rgba(60, 64, 67, 0.3), 0px 1px 3px 1px rgba(60, 64, 67, 0.15);\n",
              "      fill: #174EA6;\n",
              "    }\n",
              "\n",
              "    .colab-df-buttons div {\n",
              "      margin-bottom: 4px;\n",
              "    }\n",
              "\n",
              "    [theme=dark] .colab-df-convert {\n",
              "      background-color: #3B4455;\n",
              "      fill: #D2E3FC;\n",
              "    }\n",
              "\n",
              "    [theme=dark] .colab-df-convert:hover {\n",
              "      background-color: #434B5C;\n",
              "      box-shadow: 0px 1px 3px 1px rgba(0, 0, 0, 0.15);\n",
              "      filter: drop-shadow(0px 1px 2px rgba(0, 0, 0, 0.3));\n",
              "      fill: #FFFFFF;\n",
              "    }\n",
              "  </style>\n",
              "\n",
              "    <script>\n",
              "      const buttonEl =\n",
              "        document.querySelector('#df-ec9d46e2-9094-485d-9cf9-af153299e272 button.colab-df-convert');\n",
              "      buttonEl.style.display =\n",
              "        google.colab.kernel.accessAllowed ? 'block' : 'none';\n",
              "\n",
              "      async function convertToInteractive(key) {\n",
              "        const element = document.querySelector('#df-ec9d46e2-9094-485d-9cf9-af153299e272');\n",
              "        const dataTable =\n",
              "          await google.colab.kernel.invokeFunction('convertToInteractive',\n",
              "                                                    [key], {});\n",
              "        if (!dataTable) return;\n",
              "\n",
              "        const docLinkHtml = 'Like what you see? Visit the ' +\n",
              "          '<a target=\"_blank\" href=https://colab.research.google.com/notebooks/data_table.ipynb>data table notebook</a>'\n",
              "          + ' to learn more about interactive tables.';\n",
              "        element.innerHTML = '';\n",
              "        dataTable['output_type'] = 'display_data';\n",
              "        await google.colab.output.renderOutput(dataTable, element);\n",
              "        const docLink = document.createElement('div');\n",
              "        docLink.innerHTML = docLinkHtml;\n",
              "        element.appendChild(docLink);\n",
              "      }\n",
              "    </script>\n",
              "  </div>\n",
              "\n",
              "\n",
              "    <div id=\"df-343101c4-8ae6-4fcb-a2fb-952dc5af30ac\">\n",
              "      <button class=\"colab-df-quickchart\" onclick=\"quickchart('df-343101c4-8ae6-4fcb-a2fb-952dc5af30ac')\"\n",
              "                title=\"Suggest charts\"\n",
              "                style=\"display:none;\">\n",
              "\n",
              "<svg xmlns=\"http://www.w3.org/2000/svg\" height=\"24px\"viewBox=\"0 0 24 24\"\n",
              "     width=\"24px\">\n",
              "    <g>\n",
              "        <path d=\"M19 3H5c-1.1 0-2 .9-2 2v14c0 1.1.9 2 2 2h14c1.1 0 2-.9 2-2V5c0-1.1-.9-2-2-2zM9 17H7v-7h2v7zm4 0h-2V7h2v10zm4 0h-2v-4h2v4z\"/>\n",
              "    </g>\n",
              "</svg>\n",
              "      </button>\n",
              "\n",
              "<style>\n",
              "  .colab-df-quickchart {\n",
              "      --bg-color: #E8F0FE;\n",
              "      --fill-color: #1967D2;\n",
              "      --hover-bg-color: #E2EBFA;\n",
              "      --hover-fill-color: #174EA6;\n",
              "      --disabled-fill-color: #AAA;\n",
              "      --disabled-bg-color: #DDD;\n",
              "  }\n",
              "\n",
              "  [theme=dark] .colab-df-quickchart {\n",
              "      --bg-color: #3B4455;\n",
              "      --fill-color: #D2E3FC;\n",
              "      --hover-bg-color: #434B5C;\n",
              "      --hover-fill-color: #FFFFFF;\n",
              "      --disabled-bg-color: #3B4455;\n",
              "      --disabled-fill-color: #666;\n",
              "  }\n",
              "\n",
              "  .colab-df-quickchart {\n",
              "    background-color: var(--bg-color);\n",
              "    border: none;\n",
              "    border-radius: 50%;\n",
              "    cursor: pointer;\n",
              "    display: none;\n",
              "    fill: var(--fill-color);\n",
              "    height: 32px;\n",
              "    padding: 0;\n",
              "    width: 32px;\n",
              "  }\n",
              "\n",
              "  .colab-df-quickchart:hover {\n",
              "    background-color: var(--hover-bg-color);\n",
              "    box-shadow: 0 1px 2px rgba(60, 64, 67, 0.3), 0 1px 3px 1px rgba(60, 64, 67, 0.15);\n",
              "    fill: var(--button-hover-fill-color);\n",
              "  }\n",
              "\n",
              "  .colab-df-quickchart-complete:disabled,\n",
              "  .colab-df-quickchart-complete:disabled:hover {\n",
              "    background-color: var(--disabled-bg-color);\n",
              "    fill: var(--disabled-fill-color);\n",
              "    box-shadow: none;\n",
              "  }\n",
              "\n",
              "  .colab-df-spinner {\n",
              "    border: 2px solid var(--fill-color);\n",
              "    border-color: transparent;\n",
              "    border-bottom-color: var(--fill-color);\n",
              "    animation:\n",
              "      spin 1s steps(1) infinite;\n",
              "  }\n",
              "\n",
              "  @keyframes spin {\n",
              "    0% {\n",
              "      border-color: transparent;\n",
              "      border-bottom-color: var(--fill-color);\n",
              "      border-left-color: var(--fill-color);\n",
              "    }\n",
              "    20% {\n",
              "      border-color: transparent;\n",
              "      border-left-color: var(--fill-color);\n",
              "      border-top-color: var(--fill-color);\n",
              "    }\n",
              "    30% {\n",
              "      border-color: transparent;\n",
              "      border-left-color: var(--fill-color);\n",
              "      border-top-color: var(--fill-color);\n",
              "      border-right-color: var(--fill-color);\n",
              "    }\n",
              "    40% {\n",
              "      border-color: transparent;\n",
              "      border-right-color: var(--fill-color);\n",
              "      border-top-color: var(--fill-color);\n",
              "    }\n",
              "    60% {\n",
              "      border-color: transparent;\n",
              "      border-right-color: var(--fill-color);\n",
              "    }\n",
              "    80% {\n",
              "      border-color: transparent;\n",
              "      border-right-color: var(--fill-color);\n",
              "      border-bottom-color: var(--fill-color);\n",
              "    }\n",
              "    90% {\n",
              "      border-color: transparent;\n",
              "      border-bottom-color: var(--fill-color);\n",
              "    }\n",
              "  }\n",
              "</style>\n",
              "\n",
              "      <script>\n",
              "        async function quickchart(key) {\n",
              "          const quickchartButtonEl =\n",
              "            document.querySelector('#' + key + ' button');\n",
              "          quickchartButtonEl.disabled = true;  // To prevent multiple clicks.\n",
              "          quickchartButtonEl.classList.add('colab-df-spinner');\n",
              "          try {\n",
              "            const charts = await google.colab.kernel.invokeFunction(\n",
              "                'suggestCharts', [key], {});\n",
              "          } catch (error) {\n",
              "            console.error('Error during call to suggestCharts:', error);\n",
              "          }\n",
              "          quickchartButtonEl.classList.remove('colab-df-spinner');\n",
              "          quickchartButtonEl.classList.add('colab-df-quickchart-complete');\n",
              "        }\n",
              "        (() => {\n",
              "          let quickchartButtonEl =\n",
              "            document.querySelector('#df-343101c4-8ae6-4fcb-a2fb-952dc5af30ac button');\n",
              "          quickchartButtonEl.style.display =\n",
              "            google.colab.kernel.accessAllowed ? 'block' : 'none';\n",
              "        })();\n",
              "      </script>\n",
              "    </div>\n",
              "\n",
              "    </div>\n",
              "  </div>\n"
            ],
            "application/vnd.google.colaboratory.intrinsic+json": {
              "type": "dataframe",
              "summary": "{\n  \"name\": \"df\",\n  \"rows\": 8,\n  \"fields\": [\n    {\n      \"column\": \"step\",\n      \"properties\": {\n        \"dtype\": \"number\",\n        \"std\": 2249431.9540618425,\n        \"min\": 1.0,\n        \"max\": 6362620.0,\n        \"num_unique_values\": 8,\n        \"samples\": [\n          243.39724563151657,\n          239.0,\n          6362620.0\n        ],\n        \"semantic_type\": \"\",\n        \"description\": \"\"\n      }\n    },\n    {\n      \"column\": \"amount\",\n      \"properties\": {\n        \"dtype\": \"number\",\n        \"std\": 32381388.583731953,\n        \"min\": 0.0,\n        \"max\": 92445516.64,\n        \"num_unique_values\": 8,\n        \"samples\": [\n          179861.90354913071,\n          74871.94,\n          6362620.0\n        ],\n        \"semantic_type\": \"\",\n        \"description\": \"\"\n      }\n    },\n    {\n      \"column\": \"oldbalanceOrg\",\n      \"properties\": {\n        \"dtype\": \"number\",\n        \"std\": 20671082.75977792,\n        \"min\": 0.0,\n        \"max\": 59585040.37,\n        \"num_unique_values\": 7,\n        \"samples\": [\n          6362620.0,\n          833883.1040744866,\n          107315.175\n        ],\n        \"semantic_type\": \"\",\n        \"description\": \"\"\n      }\n    },\n    {\n      \"column\": \"newbalanceOrig\",\n      \"properties\": {\n        \"dtype\": \"number\",\n        \"std\": 17156393.89138026,\n        \"min\": 0.0,\n        \"max\": 49585040.37,\n        \"num_unique_values\": 6,\n        \"samples\": [\n          6362620.0,\n          855113.6685785869,\n          49585040.37\n        ],\n        \"semantic_type\": \"\",\n        \"description\": \"\"\n      }\n    },\n    {\n      \"column\": \"oldbalanceDest\",\n      \"properties\": {\n        \"dtype\": \"number\",\n        \"std\": 125286921.4223383,\n        \"min\": 0.0,\n        \"max\": 356015889.35,\n        \"num_unique_values\": 7,\n        \"samples\": [\n          6362620.0,\n          1100701.6665196486,\n          943036.7075\n        ],\n        \"semantic_type\": \"\",\n        \"description\": \"\"\n      }\n    },\n    {\n      \"column\": \"newbalanceDest\",\n      \"properties\": {\n        \"dtype\": \"number\",\n        \"std\": 125312039.97617318,\n        \"min\": 0.0,\n        \"max\": 356179278.92,\n        \"num_unique_values\": 7,\n        \"samples\": [\n          6362620.0,\n          1224996.3982019299,\n          1111909.25\n        ],\n        \"semantic_type\": \"\",\n        \"description\": \"\"\n      }\n    },\n    {\n      \"column\": \"isFraud\",\n      \"properties\": {\n        \"dtype\": \"number\",\n        \"std\": 2249525.821670313,\n        \"min\": 0.0,\n        \"max\": 6362620.0,\n        \"num_unique_values\": 5,\n        \"samples\": [\n          0.001290820448180152,\n          1.0,\n          0.03590479680110214\n        ],\n        \"semantic_type\": \"\",\n        \"description\": \"\"\n      }\n    },\n    {\n      \"column\": \"isFlaggedFraud\",\n      \"properties\": {\n        \"dtype\": \"number\",\n        \"std\": 2249525.8234687545,\n        \"min\": 0.0,\n        \"max\": 6362620.0,\n        \"num_unique_values\": 5,\n        \"samples\": [\n          2.51468734577894e-06,\n          1.0,\n          0.0015857747057628966\n        ],\n        \"semantic_type\": \"\",\n        \"description\": \"\"\n      }\n    }\n  ]\n}"
            }
          },
          "metadata": {},
          "execution_count": 12
        }
      ]
    },
    {
      "cell_type": "markdown",
      "source": [
        "#📊 Descriptive Statistics Summary\n",
        "Rows: 6,362,620 transactions\n",
        "\n",
        "Time Range (step): Spans 743 hours (~31 days), with most transactions occurring around step 243\n",
        "\n",
        "Transaction Amounts:\n",
        "\n",
        "Mean amount: $179,861\n",
        "\n",
        "Median amount: $74,872\n",
        "\n",
        "Max amount: $92.4 million\n",
        "\n",
        "Highly skewed — large outliers exist\n",
        "\n",
        "Sender Balances:\n",
        "\n",
        "Mean oldbalanceOrg: $833,883\n",
        "\n",
        "Median oldbalanceOrg: $14,208 → most users have low balances, skewed by a few very wealthy accounts\n",
        "\n",
        "Receiver Balances:\n",
        "\n",
        "Mean oldbalanceDest: $1.1 million, with a max of $356 million\n",
        "\n",
        "Fraud:\n",
        "\n",
        "Very rare: only 0.04% (isFraud mean = 0.0004)\n",
        "\n",
        "Flagged Fraud:\n",
        "\n",
        "Almost never flagged: isFlaggedFraud mean = 0"
      ],
      "metadata": {
        "id": "Mdvi2NdFSp_c"
      }
    },
    {
      "cell_type": "code",
      "source": [
        "df.type.unique()"
      ],
      "metadata": {
        "colab": {
          "base_uri": "https://localhost:8080/"
        },
        "id": "I2DbAAQaSt3U",
        "outputId": "270ef583-db67-4fce-8b3a-ebe20b741253"
      },
      "execution_count": 13,
      "outputs": [
        {
          "output_type": "execute_result",
          "data": {
            "text/plain": [
              "array(['PAYMENT', 'TRANSFER', 'CASH_OUT', 'DEBIT', 'CASH_IN'],\n",
              "      dtype=object)"
            ]
          },
          "metadata": {},
          "execution_count": 13
        }
      ]
    },
    {
      "cell_type": "code",
      "source": [
        "type_mapping = {\n",
        "    'PAYMENT': 0,\n",
        "    'TRANSFER': 1,\n",
        "    'CASH_OUT': 2,\n",
        "    'DEBIT': 3,\n",
        "    'CASH_IN': 4\n",
        "}\n",
        "\n",
        "df['type'] = df['type'].map(type_mapping)\n"
      ],
      "metadata": {
        "id": "hgjsUk-aT5us"
      },
      "execution_count": 14,
      "outputs": []
    },
    {
      "cell_type": "code",
      "source": [
        "df['errorBalanceOrig'] = df['oldbalanceOrg'] - df['amount'] - df['newbalanceOrig']\n",
        "df['errorBalanceDest'] = df['oldbalanceDest'] + df['amount'] - df['newbalanceDest']"
      ],
      "metadata": {
        "id": "uTG9qW63TbsK"
      },
      "execution_count": 15,
      "outputs": []
    },
    {
      "cell_type": "code",
      "source": [
        "df.info()"
      ],
      "metadata": {
        "colab": {
          "base_uri": "https://localhost:8080/"
        },
        "id": "tfID72AXUCQE",
        "outputId": "a3214b56-0194-4ae2-9364-14ab7485fe6f"
      },
      "execution_count": 16,
      "outputs": [
        {
          "output_type": "stream",
          "name": "stdout",
          "text": [
            "<class 'pandas.core.frame.DataFrame'>\n",
            "RangeIndex: 6362620 entries, 0 to 6362619\n",
            "Data columns (total 11 columns):\n",
            " #   Column            Dtype  \n",
            "---  ------            -----  \n",
            " 0   step              int64  \n",
            " 1   type              int64  \n",
            " 2   amount            float64\n",
            " 3   oldbalanceOrg     float64\n",
            " 4   newbalanceOrig    float64\n",
            " 5   oldbalanceDest    float64\n",
            " 6   newbalanceDest    float64\n",
            " 7   isFraud           int64  \n",
            " 8   isFlaggedFraud    int64  \n",
            " 9   errorBalanceOrig  float64\n",
            " 10  errorBalanceDest  float64\n",
            "dtypes: float64(7), int64(4)\n",
            "memory usage: 534.0 MB\n"
          ]
        }
      ]
    },
    {
      "cell_type": "markdown",
      "source": [
        "# SKEWNESS"
      ],
      "metadata": {
        "id": "t8M8z7kKU2df"
      }
    },
    {
      "cell_type": "code",
      "source": [
        "df.columns"
      ],
      "metadata": {
        "colab": {
          "base_uri": "https://localhost:8080/"
        },
        "id": "uDA48Nw1U5rj",
        "outputId": "59b495a4-8d4d-48d6-fd0d-0128e4dcf660"
      },
      "execution_count": 17,
      "outputs": [
        {
          "output_type": "execute_result",
          "data": {
            "text/plain": [
              "Index(['step', 'type', 'amount', 'oldbalanceOrg', 'newbalanceOrig',\n",
              "       'oldbalanceDest', 'newbalanceDest', 'isFraud', 'isFlaggedFraud',\n",
              "       'errorBalanceOrig', 'errorBalanceDest'],\n",
              "      dtype='object')"
            ]
          },
          "metadata": {},
          "execution_count": 17
        }
      ]
    },
    {
      "cell_type": "code",
      "source": [
        "from scipy.stats import skew as sk\n",
        "\n",
        "features = ['step', 'type', 'amount', 'oldbalanceOrg', 'newbalanceOrig','oldbalanceDest', 'newbalanceDest', 'isFlaggedFraud', 'errorBalanceOrig', 'errorBalanceDest']\n",
        "\n",
        "skewness = df[features].apply(sk)\n",
        "\n",
        "\n",
        "def skew_category(x):\n",
        "    if abs(x) < 0.5:\n",
        "        return \"Approximately Symmetric\"\n",
        "    elif 0.5 <= abs(x) < 1:\n",
        "        return \"Moderately Skewed\"\n",
        "    else:\n",
        "        return \"Highly Skewed\"\n",
        "\n",
        "\n",
        "skew_results = pd.DataFrame({\n",
        "    'Skewness Value': skewness,\n",
        "    'Skewness Category': skewness.apply(skew_category),\n",
        "    'Direction': skewness.apply(lambda x: \"Positive (Right)\" if x > 0 else \"Negative (Left)\")\n",
        "})\n",
        "\n",
        "\n",
        "skew_results['abs_skew'] = skew_results['Skewness Value'].abs()\n",
        "skew_results = skew_results.sort_values(by='abs_skew', ascending=False).drop(columns='abs_skew')\n",
        "\n",
        "\n",
        "print(skew_results)"
      ],
      "metadata": {
        "colab": {
          "base_uri": "https://localhost:8080/"
        },
        "id": "yHzImvQiUhDJ",
        "outputId": "41d65815-06d3-47df-cb2f-c771518f818d"
      },
      "execution_count": 18,
      "outputs": [
        {
          "output_type": "stream",
          "name": "stdout",
          "text": [
            "                  Skewness Value        Skewness Category         Direction\n",
            "isFlaggedFraud            630.60            Highly Skewed  Positive (Right)\n",
            "errorBalanceDest          -49.20            Highly Skewed   Negative (Left)\n",
            "amount                     30.99            Highly Skewed  Positive (Right)\n",
            "errorBalanceOrig          -30.07            Highly Skewed   Negative (Left)\n",
            "oldbalanceDest             19.92            Highly Skewed  Positive (Right)\n",
            "newbalanceDest             19.35            Highly Skewed  Positive (Right)\n",
            "oldbalanceOrg               5.25            Highly Skewed  Positive (Right)\n",
            "newbalanceOrig              5.18            Highly Skewed  Positive (Right)\n",
            "step                        0.38  Approximately Symmetric  Positive (Right)\n",
            "type                        0.33  Approximately Symmetric  Positive (Right)\n"
          ]
        }
      ]
    },
    {
      "cell_type": "markdown",
      "source": [
        "#Transformation"
      ],
      "metadata": {
        "id": "44hgqATabeDa"
      }
    },
    {
      "cell_type": "code",
      "source": [
        "from scipy import stats\n",
        "# Will exclude 'isfraud' and 'isflaggedfraud' as one is target and another os binary classification\n",
        "from sklearn.preprocessing import PowerTransformer\n",
        "variables = ['amount', 'oldbalanceOrg', 'newbalanceOrig',\n",
        "             'oldbalanceDest', 'newbalanceDest',\n",
        "             'errorBalanceOrig', 'errorBalanceDest']\n",
        "\n",
        "def safe_log(x):\n",
        "    shift = 1 - np.min(x) if np.min(x) <= 0 else 0\n",
        "    return np.log1p(x + shift)\n",
        "\n",
        "def safe_sqrt(x):\n",
        "    shift = -np.min(x) if np.min(x) < 0 else 0\n",
        "    return np.sqrt(x + shift)\n",
        "\n",
        "def box_cox_transform(x):\n",
        "    shift = 1 - np.min(x) if np.min(x) <= 0 else 0\n",
        "    x_pos = x + shift\n",
        "    return stats.boxcox(x_pos)[0]\n",
        "\n",
        "def yeo_johnson_transform(x):\n",
        "    pt = PowerTransformer(method='yeo-johnson')\n",
        "    return pt.fit_transform(x.values.reshape(-1, 1)).flatten()\n",
        "\n",
        "def skew_category(x):\n",
        "    if abs(x) < 0.5:\n",
        "        return \"Approximately Symmetric\"\n",
        "    elif 0.5 <= abs(x) < 1:\n",
        "        return \"Moderately Skewed\"\n",
        "    else:\n",
        "        return \"Highly Skewed\"\n",
        "\n",
        "\n",
        "\n",
        "results = []\n",
        "transformed_df = df.copy()\n",
        "\n",
        "for var in variables:\n",
        "    original = df[var]\n",
        "    transforms = {}\n",
        "\n",
        "\n",
        "    transforms['Original'] = original\n",
        "    transforms['Log'] = safe_log(original)\n",
        "    transforms['Sqrt'] = safe_sqrt(original)\n",
        "\n",
        "    try:\n",
        "        transforms['Box-Cox'] = box_cox_transform(original)\n",
        "    except Exception:\n",
        "        transforms['Box-Cox'] = np.nan\n",
        "\n",
        "    try:\n",
        "        transforms['Yeo-Johnson'] = yeo_johnson_transform(original)\n",
        "    except Exception:\n",
        "        transforms['Yeo-Johnson'] = np.nan\n",
        "\n",
        "\n",
        "    skewness_vals = {}\n",
        "    for name, data in transforms.items():\n",
        "        if isinstance(data, float) and np.isnan(data):\n",
        "            skewness_vals[name] = np.nan\n",
        "        else:\n",
        "            skewness_vals[name] = sk(data)\n",
        "\n",
        "\n",
        "    best_transform = min(\n",
        "        ((k, abs(v)) for k, v in skewness_vals.items() if not pd.isna(v)),\n",
        "        key=lambda x: x[1]\n",
        "    )[0]\n",
        "\n",
        "\n",
        "    transformed_df[var] = transforms[best_transform]\n",
        "\n",
        "\n",
        "    results.append({\n",
        "        'Variable': var,\n",
        "        **{f'Skewness_{k}': v for k, v in skewness_vals.items()},\n",
        "        'Best_Transform': best_transform,\n",
        "        'Best_Skewness': skewness_vals[best_transform],\n",
        "        'Skewness_Category': skew_category(skewness_vals[best_transform]),\n",
        "        'Direction': 'Positive (Right)' if skewness_vals[best_transform] > 0 else 'Negative (Left)'\n",
        "    })\n",
        "\n",
        "skew_results_df = pd.DataFrame(results)\n",
        "skew_results_df['Abs_Best_Skewness'] = skew_results_df['Best_Skewness'].abs()\n",
        "skew_results_df = skew_results_df.sort_values(by='Abs_Best_Skewness').drop(columns='Abs_Best_Skewness')\n",
        "\n",
        "\n",
        "print(skew_results_df)\n",
        "\n"
      ],
      "metadata": {
        "colab": {
          "base_uri": "https://localhost:8080/"
        },
        "id": "4m-bGrO-XKkM",
        "outputId": "caac3b57-1321-4341-edc3-df04a542109e"
      },
      "execution_count": 19,
      "outputs": [
        {
          "output_type": "stream",
          "name": "stderr",
          "text": [
            "/usr/local/lib/python3.11/dist-packages/scipy/stats/_morestats.py:1186: UserWarning: The optimal lambda is 289.746127483906, but the returned lambda is the constrained optimum to ensure that the maximum or the minimum of the transformed data does not overflow in float64.\n",
            "  lmax = boxcox_normmax(x, method='mle', optimizer=optimizer)\n",
            "/usr/local/lib/python3.11/dist-packages/numpy/_core/_methods.py:127: RuntimeWarning: overflow encountered in reduce\n",
            "  ret = umr_sum(arr, axis, dtype, out, keepdims, where=where)\n"
          ]
        },
        {
          "output_type": "stream",
          "name": "stdout",
          "text": [
            "           Variable  Skewness_Original  Skewness_Log  Skewness_Sqrt  \\\n",
            "0            amount              30.99         -0.55           3.66   \n",
            "1     oldbalanceOrg               5.25         -0.21           3.04   \n",
            "3    oldbalanceDest              19.92         -0.20           2.37   \n",
            "4    newbalanceDest              19.35         -0.38           2.33   \n",
            "2    newbalanceOrig               5.18          0.46           2.94   \n",
            "5  errorBalanceOrig             -30.07       -809.89         -38.89   \n",
            "6  errorBalanceDest             -49.20       -823.55         -66.85   \n",
            "\n",
            "   Skewness_Box-Cox  Skewness_Yeo-Johnson Best_Transform  Best_Skewness  \\\n",
            "0             -0.02                 -0.02    Yeo-Johnson          -0.02   \n",
            "1             -0.09                 -0.09    Yeo-Johnson          -0.09   \n",
            "3             -0.16                 -0.16        Box-Cox          -0.16   \n",
            "4             -0.28                 -0.28        Box-Cox          -0.28   \n",
            "2              0.33                  0.33    Yeo-Johnson           0.33   \n",
            "5               NaN                  0.39    Yeo-Johnson           0.39   \n",
            "6              8.33                 -1.02    Yeo-Johnson          -1.02   \n",
            "\n",
            "         Skewness_Category         Direction  \n",
            "0  Approximately Symmetric   Negative (Left)  \n",
            "1  Approximately Symmetric   Negative (Left)  \n",
            "3  Approximately Symmetric   Negative (Left)  \n",
            "4  Approximately Symmetric   Negative (Left)  \n",
            "2  Approximately Symmetric  Positive (Right)  \n",
            "5  Approximately Symmetric  Positive (Right)  \n",
            "6            Highly Skewed   Negative (Left)  \n"
          ]
        }
      ]
    },
    {
      "cell_type": "markdown",
      "source": [
        "# 2nd transformation- Only on errorBalanceDest"
      ],
      "metadata": {
        "id": "EsxjMF2jbvow"
      }
    },
    {
      "cell_type": "code",
      "source": [
        "from sklearn.preprocessing import PowerTransformer\n",
        "from scipy.stats import boxcox, skew\n",
        "\n",
        "pt = PowerTransformer(method='yeo-johnson')\n",
        "yj_transformed = pt.fit_transform(df[['errorBalanceDest']])\n",
        "\n",
        "min_val = yj_transformed.min()\n",
        "shift = 1 - min_val if min_val <= 0 else 0\n",
        "positive_yj = yj_transformed + shift\n",
        "\n",
        "try:\n",
        "    boxcox_transformed = boxcox(positive_yj.flatten())[0]\n",
        "    df['errorBalanceDest'] = boxcox_transformed\n",
        "except Exception as e:\n",
        "    print(\"Box-Cox failed:\", e)\n",
        "\n",
        "final_skew = skew(df['errorBalanceDest'])\n",
        "\n",
        "def skew_category(x):\n",
        "    if abs(x) < 0.5:\n",
        "        return \"Approximately Symmetric\"\n",
        "    elif 0.5 <= abs(x) < 1:\n",
        "        return \"Moderately Skewed\"\n",
        "    else:\n",
        "        return \"Highly Skewed\"\n",
        "\n",
        "# Print result\n",
        "print(f\"✅ New Skewness (errorBalanceDest): {final_skew:.2f} → {skew_category(final_skew)} ({'Positive' if final_skew > 0 else 'Negative'})\")\n"
      ],
      "metadata": {
        "colab": {
          "base_uri": "https://localhost:8080/"
        },
        "id": "IAqPnk5lb4K1",
        "outputId": "1d299062-324a-4098-f1bf-830794ca46df"
      },
      "execution_count": 21,
      "outputs": [
        {
          "output_type": "stream",
          "name": "stdout",
          "text": [
            "✅ New Skewness (errorBalanceDest): 3.08 → Highly Skewed (Positive)\n"
          ]
        }
      ]
    },
    {
      "cell_type": "markdown",
      "source": [
        "#Outliers"
      ],
      "metadata": {
        "id": "HPycxqpHdmEJ"
      }
    },
    {
      "cell_type": "code",
      "source": [
        "import matplotlib.pyplot as plt\n",
        "import seaborn as sns\n",
        "import numpy as np\n",
        "\n",
        "numeric_cols = df.select_dtypes(include=[np.number]).columns.tolist()\n",
        "if 'isFraud' in numeric_cols:\n",
        "    numeric_cols.remove('isFraud')\n",
        "if 'isFlaggedFraud' in numeric_cols:\n",
        "    numeric_cols.remove('isFlaggedFraud')\n",
        "\n",
        "n_cols = 3\n",
        "n_rows = (len(numeric_cols) + n_cols - 1) // n_cols\n",
        "\n",
        "plt.figure(figsize=(n_cols * 5, n_rows * 4))\n",
        "\n",
        "# Looping\n",
        "for i, col in enumerate(numeric_cols, 1):\n",
        "    plt.subplot(n_rows, n_cols, i)\n",
        "\n",
        "    sns.boxplot(y=df[col], color='skyblue', linewidth=1)\n",
        "\n",
        "    plt.title(col, fontsize=11)\n",
        "    plt.ylabel(col)\n",
        "    plt.xlabel('')\n",
        "    plt.grid(axis='y', linestyle='--', linewidth=0.5)\n",
        "\n",
        "plt.tight_layout()\n",
        "plt.suptitle(\"Boxplots to Visualize Outliers (Before Treatment)\", fontsize=16, y=1.03)\n",
        "plt.show()\n"
      ],
      "metadata": {
        "colab": {
          "base_uri": "https://localhost:8080/",
          "height": 1000
        },
        "id": "t1PuiDiDduXe",
        "outputId": "d9d4096f-8cd0-40c6-87e8-60df632f249f"
      },
      "execution_count": 22,
      "outputs": [
        {
          "output_type": "display_data",
          "data": {
            "text/plain": [
              "<Figure size 1500x1200 with 9 Axes>"
            ],
            "image/png": "[encoded data removed]"
          },
          "metadata": {}
        }
      ]
    },
    {
      "cell_type": "markdown",
      "source": [
        "#Treating Outliers"
      ],
      "metadata": {
        "id": "73PaGW9Ge662"
      }
    },
    {
      "cell_type": "code",
      "source": [
        "def treat_outliers_iterative(df, target='isFraud', max_iter=100, tol=0, IQR_multiplier=1.5, verbose=True):\n",
        "    df_out = df.copy()\n",
        "\n",
        "    num_cols = df_out.select_dtypes(include=[np.number]).columns.tolist()\n",
        "    if target in num_cols:\n",
        "        num_cols.remove(target)\n",
        "\n",
        "    for col in num_cols:\n",
        "\n",
        "        if df_out[col].nunique() <= 1 or df_out[col].isna().all():\n",
        "            if verbose:\n",
        "                print(f\"{col}: Skipped (constant or all NaNs)\")\n",
        "            continue\n",
        "\n",
        "        iteration = 0\n",
        "        while iteration < max_iter:\n",
        "            Q1 = df_out[col].quantile(0.25)\n",
        "            Q3 = df_out[col].quantile(0.75)\n",
        "            IQR = Q3 - Q1\n",
        "            lower_bound = Q1 - IQR_multiplier * IQR\n",
        "            upper_bound = Q3 + IQR_multiplier * IQR\n",
        "\n",
        "            outliers_idx = df_out[(df_out[col] < lower_bound) | (df_out[col] > upper_bound)].index\n",
        "            n_outliers = len(outliers_idx)\n",
        "            total = df_out.shape[0]\n",
        "            outlier_ratio = n_outliers / total\n",
        "\n",
        "            if n_outliers <= tol:\n",
        "                if iteration == 0 and verbose:\n",
        "                    print(f\"{col}: No outliers detected.\")\n",
        "                elif verbose:\n",
        "                    print(f\"{col}: Outliers treated after {iteration} iteration(s).\")\n",
        "                break\n",
        "\n",
        "            if iteration == 0 and verbose:\n",
        "                print(f\"{col}: {n_outliers} outliers ({outlier_ratio:.2%})\")\n",
        "\n",
        "            skew_val = df_out[col].skew()\n",
        "\n",
        "            if abs(skew_val) > 1:\n",
        "                df_out.loc[df_out[col] > upper_bound, col] = upper_bound\n",
        "                df_out.loc[df_out[col] < lower_bound, col] = lower_bound\n",
        "                if iteration == 0 and verbose:\n",
        "                    print(f\" → Capping applied (high skew)\")\n",
        "\n",
        "            elif 0.5 <= abs(skew_val) <= 1:\n",
        "                median = round(df_out[col].median(), 2)\n",
        "                df_out.loc[df_out[col] > upper_bound, col] = median\n",
        "                df_out.loc[df_out[col] < lower_bound, col] = median\n",
        "                if iteration == 0 and verbose:\n",
        "                    print(f\" → Replacing with median: {median}\")\n",
        "\n",
        "            else:\n",
        "                mean = round(df_out[col].mean(), 2)\n",
        "                df_out.loc[df_out[col] > upper_bound, col] = mean\n",
        "                df_out.loc[df_out[col] < lower_bound, col] = mean\n",
        "                if iteration == 0 and verbose:\n",
        "                    print(f\" → Replacing with mean: {mean}\")\n",
        "\n",
        "            iteration += 1\n",
        "\n",
        "        else:\n",
        "            if verbose:\n",
        "                print(f\"{col}: ⚠️ Max iterations reached. {n_outliers} outliers may remain.\")\n",
        "\n",
        "    return df_out\n"
      ],
      "metadata": {
        "id": "Jr4OuvUEe9EM"
      },
      "execution_count": 23,
      "outputs": []
    },
    {
      "cell_type": "code",
      "source": [
        "print(\"\\n--- Applying Outlier Treatment to DataFrame 'df' ---\")\n",
        "df = treat_outliers_iterative(df, target='isFraud')\n",
        "print(\"✅ Outlier treatment applied.\")\n"
      ],
      "metadata": {
        "colab": {
          "base_uri": "https://localhost:8080/"
        },
        "id": "J7ft46F9g-du",
        "outputId": "a09a9f78-59bf-4cf1-8b6b-d350584c20c8"
      },
      "execution_count": 24,
      "outputs": [
        {
          "output_type": "stream",
          "name": "stdout",
          "text": [
            "\n",
            "--- Applying Outlier Treatment to DataFrame 'df' ---\n",
            "step: 102688 outliers (1.61%)\n",
            " → Replacing with mean: 243.4\n"
          ]
        },
        {
          "output_type": "stream",
          "name": "stderr",
          "text": [
            "/tmp/ipython-input-23-1438407168.py:55: FutureWarning: Setting an item of incompatible dtype is deprecated and will raise an error in a future version of pandas. Value '243.4' has dtype incompatible with int64, please explicitly cast to a compatible dtype first.\n",
            "  df_out.loc[df_out[col] > upper_bound, col] = mean\n"
          ]
        },
        {
          "output_type": "stream",
          "name": "stdout",
          "text": [
            "step: Outliers treated after 3 iteration(s).\n",
            "type: No outliers detected.\n",
            "amount: 338078 outliers (5.31%)\n",
            " → Capping applied (high skew)\n",
            "amount: Outliers treated after 1 iteration(s).\n",
            "oldbalanceOrg: 1112507 outliers (17.49%)\n",
            " → Capping applied (high skew)\n",
            "oldbalanceOrg: Outliers treated after 1 iteration(s).\n",
            "newbalanceOrig: 1053391 outliers (16.56%)\n",
            " → Capping applied (high skew)\n",
            "newbalanceOrig: Outliers treated after 1 iteration(s).\n",
            "oldbalanceDest: 786135 outliers (12.36%)\n",
            " → Capping applied (high skew)\n",
            "oldbalanceDest: Outliers treated after 1 iteration(s).\n",
            "newbalanceDest: 738527 outliers (11.61%)\n",
            " → Capping applied (high skew)\n",
            "newbalanceDest: Outliers treated after 1 iteration(s).\n",
            "isFlaggedFraud: 16 outliers (0.00%)\n",
            " → Capping applied (high skew)\n",
            "isFlaggedFraud: Outliers treated after 1 iteration(s).\n",
            "errorBalanceOrig: 408489 outliers (6.42%)\n",
            " → Capping applied (high skew)\n",
            "errorBalanceOrig: Outliers treated after 1 iteration(s).\n",
            "errorBalanceDest: 1413383 outliers (22.21%)\n",
            " → Capping applied (high skew)\n",
            "errorBalanceDest: Outliers treated after 1 iteration(s).\n",
            "✅ Outlier treatment applied.\n"
          ]
        }
      ]
    },
    {
      "cell_type": "markdown",
      "source": [
        "# Rechecking Outliers"
      ],
      "metadata": {
        "id": "IFrWGXyMfiEJ"
      }
    },
    {
      "cell_type": "code",
      "source": [
        "import math\n",
        "num_cols = df.select_dtypes(include=[np.number]).columns.tolist()\n",
        "for col_to_exclude in ['isFraud', 'isFlaggedFraud']:\n",
        "    if col_to_exclude in num_cols:\n",
        "        num_cols.remove(col_to_exclude)\n",
        "\n",
        "n_cols = 3\n",
        "n_rows = math.ceil(len(num_cols) / n_cols)\n",
        "\n",
        "plt.figure(figsize=(n_cols * 5, n_rows * 4))\n",
        "\n",
        "for i, col in enumerate(num_cols, 1):\n",
        "    plt.subplot(n_rows, n_cols, i)\n",
        "    sns.boxplot(y=df[col], color='lightgreen', linewidth=1)\n",
        "    plt.title(f'{col}', fontsize=10)\n",
        "    plt.ylabel('')\n",
        "    plt.grid(axis='y', linestyle='--', linewidth=0.5)\n",
        "\n",
        "plt.tight_layout()\n",
        "plt.suptitle(\"📦 Boxplots After Outlier Treatment\", fontsize=16, y=1.03)\n",
        "plt.show()\n"
      ],
      "metadata": {
        "colab": {
          "base_uri": "https://localhost:8080/",
          "height": 1000
        },
        "id": "D_saGwWVfk1J",
        "outputId": "1768acee-1929-47bb-911d-05f5619396f4"
      },
      "execution_count": 25,
      "outputs": [
        {
          "output_type": "stream",
          "name": "stderr",
          "text": [
            "/usr/local/lib/python3.11/dist-packages/IPython/core/pylabtools.py:151: UserWarning: Glyph 128230 (\\N{PACKAGE}) missing from font(s) DejaVu Sans.\n",
            "  fig.canvas.print_figure(bytes_io, **kw)\n"
          ]
        },
        {
          "output_type": "display_data",
          "data": {
            "text/plain": [
              "<Figure size 1500x1200 with 9 Axes>"
            ],
            "image/png": "[encoded data removed]"
          },
          "metadata": {}
        }
      ]
    },
    {
      "cell_type": "code",
      "source": [
        "#Heatmap\n",
        "\n",
        "numeric_cols = df.select_dtypes(include=['number']).columns.tolist()\n",
        "\n",
        "# Correlation matrix\n",
        "corr_matrix = df[numeric_cols].corr()\n",
        "plt.figure(figsize=(12, 10))\n",
        "sns.heatmap(corr_matrix, annot=True, fmt=\".2f\", cmap='coolwarm', square=True, cbar=True)\n",
        "plt.title('Correlation Heatmap to Assess Multicollinearity')\n",
        "plt.show()\n"
      ],
      "metadata": {
        "colab": {
          "base_uri": "https://localhost:8080/",
          "height": 934
        },
        "id": "dlF-491Djk8_",
        "outputId": "005fdd06-bfd5-4bcb-a799-63657ba4cf4c"
      },
      "execution_count": 54,
      "outputs": [
        {
          "output_type": "display_data",
          "data": {
            "text/plain": [
              "<Figure size 1200x1000 with 2 Axes>"
            ],
            "image/png": "[encoded data removed]"
          },
          "metadata": {}
        }
      ]
    },
    {
      "cell_type": "markdown",
      "source": [
        "#Correlation Matrix (Heatmap + Values)\n",
        "\n",
        "High correlation pairs (above 0.85):\n",
        "\n",
        "oldbalanceOrg ↔ newbalanceOrig: 0.86\n",
        "\n",
        "oldbalanceDest ↔ newbalanceDest: 0.97\n",
        "\n",
        "Strong negative correlation:\n",
        "\n",
        "amount ↔ errorBalanceOrig: -0.90\n",
        "\n",
        "These high correlations indicate potential multicollinearity risk, especially for balance-related fields."
      ],
      "metadata": {
        "id": "MwJdp5fwlPf4"
      }
    },
    {
      "cell_type": "code",
      "source": [
        "#VIF\n",
        "from statsmodels.stats.outliers_influence import variance_inflation_factor\n",
        "X_vif = df[numeric_cols].drop(['isFraud', 'isFlaggedFraud'], axis=1, errors='ignore')\n",
        "\n",
        "vif_data = pd.DataFrame()\n",
        "vif_data['Feature'] = X_vif.columns\n",
        "vif_data['VIF'] = [variance_inflation_factor(X_vif.values, i) for i in range(X_vif.shape[1])]\n",
        "\n",
        "print(vif_data.sort_values(by='VIF', ascending=False))\n"
      ],
      "metadata": {
        "colab": {
          "base_uri": "https://localhost:8080/"
        },
        "id": "sKXsZIwuj2fE",
        "outputId": "0d665342-390a-41cf-d1ac-9f00d683daca"
      },
      "execution_count": 55,
      "outputs": [
        {
          "output_type": "stream",
          "name": "stdout",
          "text": [
            "            Feature   VIF\n",
            "6    newbalanceDest 24.24\n",
            "5    oldbalanceDest 22.56\n",
            "7  errorBalanceOrig 13.98\n",
            "2            amount 12.39\n",
            "4    newbalanceOrig 11.39\n",
            "3     oldbalanceOrg  6.98\n",
            "8  errorBalanceDest  6.38\n",
            "1              type  2.18\n",
            "0              step  1.00\n"
          ]
        }
      ]
    },
    {
      "cell_type": "markdown",
      "source": [
        "| Feature            | VIF   | Interpretation                    |\n",
        "| ------------------ | ----- | --------------------------------- |\n",
        "| `newbalanceDest`   | 24.24 | 🚨 Very high multicollinearity    |\n",
        "| `oldbalanceDest`   | 22.56 | 🚨 Very high multicollinearity    |\n",
        "| `errorBalanceOrig` | 13.98 | 🚨 High, correlated with amount   |\n",
        "| `amount`           | 12.39 | 🚨 High, central fraud indicator  |\n",
        "| `newbalanceOrig`   | 11.39 | ⚠️ Still significant collinearity |\n",
        "| `oldbalanceOrg`    | 6.98  | ⚠️ Acceptable but notable         |\n",
        "| `errorBalanceDest` | 6.38  | ⚠️ Acceptable                     |\n",
        "| `type`             | 2.18  | ✅ Low collinearity                |\n",
        "| `step`             | 1.00  | ✅ No multicollinearity            |\n"
      ],
      "metadata": {
        "id": "MM8as-3Sldmb"
      }
    },
    {
      "cell_type": "markdown",
      "source": [
        "#Data cleaning including missing values, outliers and multi-collinearity\n",
        "\n",
        "\n",
        "I began with a dataset of 6.3 million financial transactions. During data cleaning:\n",
        "\n",
        "🔍 Missing Values:\n",
        "No missing or null values were found in the dataset. Therefore, no imputation was required.\n",
        "\n",
        "📉 Outliers:\n",
        "We used boxplots and skewness analysis to identify outliers.\n",
        "\n",
        "Highly skewed features like amount, errorBalanceOrig, and errorBalanceDest were treated using transformations such as Box-Cox and Yeo-Johnson.\n",
        "\n",
        "For remaining extreme values, we applied a custom iterative IQR-based capping strategy, using skewness to decide whether to cap, replace with median, or mean, depending on distribution shape.\n",
        "\n",
        "🔁 Multi-Collinearity:\n",
        "We computed both a correlation heatmap and Variance Inflation Factor (VIF) scores.\n",
        "\n",
        "Strong correlations were observed between:\n",
        "\n",
        "oldbalanceOrg and newbalanceOrig (0.86)\n",
        "\n",
        "oldbalanceDest and newbalanceDest (0.97)\n",
        "\n",
        "amount and errorBalanceOrig (-0.90)\n",
        "\n",
        "VIF scores confirmed high collinearity, especially in balance-related features (VIF > 10).\n",
        "\n",
        "Despite high VIF, we retained all these features because:\n",
        "\n",
        "They contribute distinct information from a fraud detection perspective.\n",
        "\n",
        "I will use (Random Forest and XGBoost) which are robust to multicollinearity so I am retaining all of them.\n",
        "\n",
        "Irrelevant fields like nameOrig and nameDest were dropped, as they act as unique identifiers and add no predictive value.\n",
        "\n"
      ],
      "metadata": {
        "id": "RGPYYFdzhEJx"
      }
    },
    {
      "cell_type": "code",
      "source": [
        "df.columns"
      ],
      "metadata": {
        "colab": {
          "base_uri": "https://localhost:8080/"
        },
        "id": "oUm30fzmjUyq",
        "outputId": "f8be5f6f-2e5d-45e6-802c-5221f9fd35b1"
      },
      "execution_count": 26,
      "outputs": [
        {
          "output_type": "execute_result",
          "data": {
            "text/plain": [
              "Index(['step', 'type', 'amount', 'oldbalanceOrg', 'newbalanceOrig',\n",
              "       'oldbalanceDest', 'newbalanceDest', 'isFraud', 'isFlaggedFraud',\n",
              "       'errorBalanceOrig', 'errorBalanceDest'],\n",
              "      dtype='object')"
            ]
          },
          "metadata": {},
          "execution_count": 26
        }
      ]
    },
    {
      "cell_type": "code",
      "source": [
        "df.isFraud.value_counts()# To check if data is imbalance or not"
      ],
      "metadata": {
        "colab": {
          "base_uri": "https://localhost:8080/",
          "height": 178
        },
        "id": "OimNx9bkkI5Z",
        "outputId": "e4a6cef7-503a-4b86-a22d-7c1ddc308edb"
      },
      "execution_count": 29,
      "outputs": [
        {
          "output_type": "execute_result",
          "data": {
            "text/plain": [
              "isFraud\n",
              "0    6354407\n",
              "1       8213\n",
              "Name: count, dtype: int64"
            ],
            "text/html": [
              "<div>\n",
              "<style scoped>\n",
              "    .dataframe tbody tr th:only-of-type {\n",
              "        vertical-align: middle;\n",
              "    }\n",
              "\n",
              "    .dataframe tbody tr th {\n",
              "        vertical-align: top;\n",
              "    }\n",
              "\n",
              "    .dataframe thead th {\n",
              "        text-align: right;\n",
              "    }\n",
              "</style>\n",
              "<table border=\"1\" class=\"dataframe\">\n",
              "  <thead>\n",
              "    <tr style=\"text-align: right;\">\n",
              "      <th></th>\n",
              "      <th>count</th>\n",
              "    </tr>\n",
              "    <tr>\n",
              "      <th>isFraud</th>\n",
              "      <th></th>\n",
              "    </tr>\n",
              "  </thead>\n",
              "  <tbody>\n",
              "    <tr>\n",
              "      <th>0</th>\n",
              "      <td>6354407</td>\n",
              "    </tr>\n",
              "    <tr>\n",
              "      <th>1</th>\n",
              "      <td>8213</td>\n",
              "    </tr>\n",
              "  </tbody>\n",
              "</table>\n",
              "</div><br><label><b>dtype:</b> int64</label>"
            ]
          },
          "metadata": {},
          "execution_count": 29
        }
      ]
    },
    {
      "cell_type": "markdown",
      "source": [
        "# Define Features and Target Variable"
      ],
      "metadata": {
        "id": "GK6vAR9zj84g"
      }
    },
    {
      "cell_type": "code",
      "source": [
        "X = df.drop(['isFraud'], axis=1)\n",
        "y = df['isFraud']\n"
      ],
      "metadata": {
        "id": "4CX3IiQ0jwgq"
      },
      "execution_count": 27,
      "outputs": []
    },
    {
      "cell_type": "code",
      "source": [
        "from sklearn.model_selection import train_test_split\n",
        "\n",
        "X_train, X_val, y_train, y_val = train_test_split(\n",
        "    X, y, test_size=0.2, stratify=y, random_state=42\n",
        ")\n"
      ],
      "metadata": {
        "id": "g-CRI166kCG0"
      },
      "execution_count": 31,
      "outputs": []
    },
    {
      "cell_type": "markdown",
      "source": [
        "#Baseline Model — Logistic Regression + Class Weight"
      ],
      "metadata": {
        "id": "_qYae8BfkzTl"
      }
    },
    {
      "cell_type": "code",
      "source": [
        "from sklearn.linear_model import LogisticRegression\n",
        "from sklearn.metrics import classification_report, roc_auc_score, confusion_matrix\n",
        "from sklearn.model_selection import GridSearchCV\n",
        "\n",
        "\n",
        "from sklearn.preprocessing import StandardScaler\n",
        "scaler = StandardScaler()\n",
        "X_train_scaled = scaler.fit_transform(X_train)\n",
        "X_val_scaled = scaler.transform(X_val)\n",
        "\n",
        "logreg = LogisticRegression(class_weight='balanced', solver='liblinear')\n",
        "\n",
        "param_grid = {\n",
        "    'C': [0.01, 0.1, 1, 10],\n",
        "    'penalty': ['l1', 'l2']\n",
        "}\n",
        "\n",
        "grid = GridSearchCV(logreg, param_grid, scoring='f1', cv=3, verbose=1, n_jobs=-1)\n",
        "grid.fit(X_train_scaled, y_train)\n",
        "\n",
        "print(\"Best Params:\", grid.best_params_)\n",
        "best_model = grid.best_estimator_\n"
      ],
      "metadata": {
        "colab": {
          "base_uri": "https://localhost:8080/"
        },
        "id": "8bczuhyjk3zG",
        "outputId": "cf1ac7ea-51be-4695-8254-4461da53ef7e"
      },
      "execution_count": 32,
      "outputs": [
        {
          "metadata": {
            "tags": null
          },
          "name": "stdout",
          "output_type": "stream",
          "text": [
            "Fitting 3 folds for each of 8 candidates, totalling 24 fits\n",
            "Best Params: {'C': 10, 'penalty': 'l1'}\n"
          ]
        }
      ]
    },
    {
      "cell_type": "code",
      "source": [
        "y_pred = best_model.predict(X_val_scaled)\n",
        "y_prob = best_model.predict_proba(X_val_scaled)[:, 1]\n",
        "\n",
        "print(\"\\nClassification Report:\\n\", classification_report(y_val, y_pred))\n",
        "print(\"ROC AUC Score:\", roc_auc_score(y_val, y_prob))\n",
        "print(\"Confusion Matrix:\\n\", confusion_matrix(y_val, y_pred))\n"
      ],
      "metadata": {
        "colab": {
          "base_uri": "https://localhost:8080/"
        },
        "id": "kGQIl7Ydk_rZ",
        "outputId": "fecbba5b-194d-4d47-a1f0-ab1f27de8211"
      },
      "execution_count": 33,
      "outputs": [
        {
          "metadata": {
            "tags": null
          },
          "name": "stdout",
          "output_type": "stream",
          "text": [
            "\n",
            "Classification Report:\n",
            "               precision    recall  f1-score   support\n",
            "\n",
            "           0       1.00      0.96      0.98   1270881\n",
            "           1       0.03      0.95      0.06      1643\n",
            "\n",
            "    accuracy                           0.96   1272524\n",
            "   macro avg       0.51      0.95      0.52   1272524\n",
            "weighted avg       1.00      0.96      0.98   1272524\n",
            "\n",
            "ROC AUC Score: 0.9919418727037027\n",
            "Confusion Matrix:\n",
            " [[1218962   51919]\n",
            " [     82    1561]]\n"
          ]
        }
      ]
    },
    {
      "cell_type": "markdown",
      "source": [
        "#SMOTEEN - TO BALANCE DATA"
      ],
      "metadata": {
        "id": "tzVq7T4lrW2i"
      }
    },
    {
      "cell_type": "code",
      "source": [
        "pip install imbalanced-learn\n"
      ],
      "metadata": {
        "colab": {
          "base_uri": "https://localhost:8080/"
        },
        "id": "erMzoPU6rbac",
        "outputId": "c4d4648e-18c3-4884-acdb-27eee77ae81a"
      },
      "execution_count": 34,
      "outputs": [
        {
          "metadata": {
            "tags": null
          },
          "name": "stdout",
          "output_type": "stream",
          "text": [
            "Requirement already satisfied: imbalanced-learn in /usr/local/lib/python3.11/dist-packages (0.13.0)\n",
            "Requirement already satisfied: numpy<3,>=1.24.3 in /usr/local/lib/python3.11/dist-packages (from imbalanced-learn) (2.0.2)\n",
            "Requirement already satisfied: scipy<2,>=1.10.1 in /usr/local/lib/python3.11/dist-packages (from imbalanced-learn) (1.16.0)\n",
            "Requirement already satisfied: scikit-learn<2,>=1.3.2 in /usr/local/lib/python3.11/dist-packages (from imbalanced-learn) (1.6.1)\n",
            "Requirement already satisfied: sklearn-compat<1,>=0.1 in /usr/local/lib/python3.11/dist-packages (from imbalanced-learn) (0.1.3)\n",
            "Requirement already satisfied: joblib<2,>=1.1.1 in /usr/local/lib/python3.11/dist-packages (from imbalanced-learn) (1.5.1)\n",
            "Requirement already satisfied: threadpoolctl<4,>=2.0.0 in /usr/local/lib/python3.11/dist-packages (from imbalanced-learn) (3.6.0)\n"
          ]
        }
      ]
    },
    {
      "cell_type": "markdown",
      "source": [
        "#Apply SMOTE-ENN"
      ],
      "metadata": {
        "id": "wb5H0oZkspKu"
      }
    },
    {
      "cell_type": "code",
      "source": [
        "from imblearn.combine import SMOTEENN\n",
        "from sklearn.model_selection import train_test_split\n",
        "from sklearn.preprocessing import StandardScaler\n",
        "\n",
        "# Use your existing train-test split\n",
        "X_train, X_val, y_train, y_val = train_test_split(\n",
        "    X, y, test_size=0.2, stratify=y, random_state=42\n",
        ")\n",
        "\n",
        "# Scale features for algorithms like LogisticRegression\n",
        "scaler = StandardScaler()\n",
        "X_train_scaled = scaler.fit_transform(X_train)\n",
        "X_val_scaled = scaler.transform(X_val)\n",
        "\n",
        "# Apply SMOTE-ENN\n",
        "smote_enn = SMOTEENN(random_state=42)\n",
        "X_train_resampled, y_train_resampled = smote_enn.fit_resample(X_train_scaled, y_train)\n",
        "\n",
        "print(\"🔍 After SMOTE-ENN:\")\n",
        "print(\"Resampled class distribution:\")\n",
        "print(pd.Series(y_train_resampled).value_counts())\n"
      ],
      "metadata": {
        "colab": {
          "base_uri": "https://localhost:8080/"
        },
        "id": "OeClrBq_ss3e",
        "outputId": "5f64d947-aa81-4292-d5e3-3f26f8a14416"
      },
      "execution_count": 35,
      "outputs": [
        {
          "metadata": {
            "tags": null
          },
          "name": "stdout",
          "output_type": "stream",
          "text": [
            "🔍 After SMOTE-ENN:\n",
            "Resampled class distribution:\n",
            "isFraud\n",
            "1    5082904\n",
            "0    5071336\n",
            "Name: count, dtype: int64\n"
          ]
        }
      ]
    },
    {
      "cell_type": "markdown",
      "source": [
        "#Re-train Model (e.g., Logistic or Tree)"
      ],
      "metadata": {
        "id": "fiemJTjas-EY"
      }
    },
    {
      "cell_type": "code",
      "source": [
        "from sklearn.linear_model import LogisticRegression\n",
        "from sklearn.metrics import classification_report, roc_auc_score, confusion_matrix\n",
        "\n",
        "model = LogisticRegression(solver='liblinear')\n",
        "model.fit(X_train_resampled, y_train_resampled)\n",
        "\n",
        "y_pred = model.predict(X_val_scaled)\n",
        "y_prob = model.predict_proba(X_val_scaled)[:, 1]\n",
        "\n",
        "print(\"\\nClassification Report:\\n\", classification_report(y_val, y_pred))\n",
        "print(\"ROC AUC Score:\", roc_auc_score(y_val, y_prob))\n",
        "print(\"Confusion Matrix:\\n\", confusion_matrix(y_val, y_pred))\n"
      ],
      "metadata": {
        "colab": {
          "base_uri": "https://localhost:8080/"
        },
        "id": "wKRIgkp-tDh6",
        "outputId": "e0c3a5c9-8ceb-4c5c-9749-7e7967c3bbb7"
      },
      "execution_count": 39,
      "outputs": [
        {
          "output_type": "stream",
          "name": "stdout",
          "text": [
            "\n",
            "Classification Report:\n",
            "               precision    recall  f1-score   support\n",
            "\n",
            "           0       1.00      0.96      0.98   1270881\n",
            "           1       0.03      0.95      0.06      1643\n",
            "\n",
            "    accuracy                           0.96   1272524\n",
            "   macro avg       0.51      0.96      0.52   1272524\n",
            "weighted avg       1.00      0.96      0.98   1272524\n",
            "\n",
            "ROC AUC Score: 0.9921061564951179\n",
            "Confusion Matrix:\n",
            " [[1218557   52324]\n",
            " [     78    1565]]\n"
          ]
        }
      ]
    },
    {
      "cell_type": "markdown",
      "source": [
        "#Random Forest Classifier"
      ],
      "metadata": {
        "id": "CvgTK2xktN-5"
      }
    },
    {
      "cell_type": "code",
      "source": [
        "from sklearn.ensemble import RandomForestClassifier\n",
        "from sklearn.metrics import classification_report, confusion_matrix, roc_auc_score\n",
        "\n",
        "rf = RandomForestClassifier(n_estimators=100, random_state=42, class_weight='balanced')\n",
        "rf.fit(X_train_resampled, y_train_resampled)\n",
        "\n",
        "rf_preds = rf.predict(X_val_scaled)\n",
        "rf_probs = rf.predict_proba(X_val_scaled)[:, 1]\n",
        "\n",
        "print(\"📊 Random Forest - Classification Report:\\n\", classification_report(y_val, rf_preds))\n",
        "print(\"🧮 Confusion Matrix (Random Forest):\\n\", confusion_matrix(y_val, rf_preds))\n",
        "print(\"📈 ROC AUC Score (Random Forest):\", roc_auc_score(y_val, rf_probs))\n"
      ],
      "metadata": {
        "colab": {
          "base_uri": "https://localhost:8080/"
        },
        "id": "1Fq3M9ANtRje",
        "outputId": "989f3d03-70db-4c80-e3cd-82ed67a7030f"
      },
      "execution_count": 36,
      "outputs": [
        {
          "output_type": "stream",
          "name": "stdout",
          "text": [
            "📊 Random Forest - Classification Report:\n",
            "               precision    recall  f1-score   support\n",
            "\n",
            "           0       1.00      1.00      1.00   1270881\n",
            "           1       0.97      1.00      0.98      1643\n",
            "\n",
            "    accuracy                           1.00   1272524\n",
            "   macro avg       0.99      1.00      0.99   1272524\n",
            "weighted avg       1.00      1.00      1.00   1272524\n",
            "\n",
            "🧮 Confusion Matrix (Random Forest):\n",
            " [[1270833      48]\n",
            " [      4    1639]]\n",
            "📈 ROC AUC Score (Random Forest): 0.999082478085207\n"
          ]
        }
      ]
    },
    {
      "cell_type": "code",
      "source": [
        "print(\"Train Accuracy:\", rf.score(X_train_resampled, y_train_resampled))\n",
        "print(\"Validation Accuracy:\", rf.score(X_val_scaled, y_val))\n"
      ],
      "metadata": {
        "colab": {
          "base_uri": "https://localhost:8080/"
        },
        "id": "544NVvTkWFZp",
        "outputId": "92d1474e-5f4a-4923-9676-65c94b052dc0"
      },
      "execution_count": 40,
      "outputs": [
        {
          "output_type": "stream",
          "name": "stdout",
          "text": [
            "Train Accuracy: 1.0\n",
            "Validation Accuracy: 0.999959136330631\n"
          ]
        }
      ]
    },
    {
      "cell_type": "markdown",
      "source": [
        "#XGBoost Classifier"
      ],
      "metadata": {
        "id": "_Ovs_NyotX7U"
      }
    },
    {
      "cell_type": "code",
      "source": [
        "from xgboost import XGBClassifier\n",
        "\n",
        "\n",
        "xgb = XGBClassifier(\n",
        "    n_estimators=100,\n",
        "    learning_rate=0.1,\n",
        "    max_depth=6,\n",
        "    scale_pos_weight=1,\n",
        "    use_label_encoder=False,\n",
        "    eval_metric='logloss',\n",
        "    random_state=42\n",
        ")\n",
        "xgb.fit(X_train_resampled, y_train_resampled)\n",
        "\n",
        "xgb_preds = xgb.predict(X_val_scaled)\n",
        "xgb_probs = xgb.predict_proba(X_val_scaled)[:, 1]\n",
        "\n",
        "print(\"\\n📊 XGBoost - Classification Report:\\n\", classification_report(y_val, xgb_preds))\n",
        "print(\"🧮 Confusion Matrix (XGBoost):\\n\", confusion_matrix(y_val, xgb_preds))\n",
        "print(\"📈 ROC AUC Score (XGBoost):\", roc_auc_score(y_val, xgb_probs))\n"
      ],
      "metadata": {
        "colab": {
          "base_uri": "https://localhost:8080/"
        },
        "id": "7KpVizWdtZ8I",
        "outputId": "e803d3cb-a09b-4e23-e590-33ff1bfdce54"
      },
      "execution_count": 37,
      "outputs": [
        {
          "output_type": "stream",
          "name": "stderr",
          "text": [
            "/usr/local/lib/python3.11/dist-packages/xgboost/training.py:183: UserWarning: [23:09:55] WARNING: /workspace/src/learner.cc:738: \n",
            "Parameters: { \"use_label_encoder\" } are not used.\n",
            "\n",
            "  bst.update(dtrain, iteration=i, fobj=obj)\n"
          ]
        },
        {
          "output_type": "stream",
          "name": "stdout",
          "text": [
            "\n",
            "📊 XGBoost - Classification Report:\n",
            "               precision    recall  f1-score   support\n",
            "\n",
            "           0       1.00      1.00      1.00   1270881\n",
            "           1       0.84      1.00      0.91      1643\n",
            "\n",
            "    accuracy                           1.00   1272524\n",
            "   macro avg       0.92      1.00      0.96   1272524\n",
            "weighted avg       1.00      1.00      1.00   1272524\n",
            "\n",
            "🧮 Confusion Matrix (XGBoost):\n",
            " [[1270571     310]\n",
            " [      4    1639]]\n",
            "📈 ROC AUC Score (XGBoost): 0.9998625569447506\n"
          ]
        }
      ]
    },
    {
      "cell_type": "code",
      "source": [
        "print(\"XGBoost Train Accuracy:\", xgb.score(X_train_resampled, y_train_resampled))\n",
        "print(\"XGBoost Validation Accuracy:\", xgb.score(X_val_scaled, y_val))\n"
      ],
      "metadata": {
        "colab": {
          "base_uri": "https://localhost:8080/"
        },
        "id": "yvmDZTrnYiOA",
        "outputId": "fd119fa7-fce3-48dd-f2b6-f30b1bf16aec"
      },
      "execution_count": 45,
      "outputs": [
        {
          "output_type": "stream",
          "name": "stdout",
          "text": [
            "XGBoost Train Accuracy: 0.9993086631791251\n",
            "XGBoost Validation Accuracy: 0.9997532463041955\n"
          ]
        }
      ]
    },
    {
      "cell_type": "markdown",
      "source": [
        "# Comparing XGBoost vs Random Forest\n",
        "\n",
        "| Metric                      | ✅ XGBoost                            | ✅ Random Forest                       |\n",
        "| --------------------------- | ------------------------------------ | ------------------------------------- |\n",
        "| **Train Accuracy**          | 99.93%                               | **100.00%**                           |\n",
        "| **Validation Accuracy**     | **99.98%**                           | 99.98%                                |\n",
        "| **ROC AUC**                 | **0.99986** (higher)                 | 0.99908                               |\n",
        "| **Recall (fraud class)**    | **1.00**                             | **1.00**                              |\n",
        "| **Precision (fraud class)** | 0.84                                 | **0.97**                              |\n",
        "| **False Positives**         | **310**                              | 48                                    |\n",
        "| **False Negatives**         | 4                                    | 4                                     |\n",
        "| **Overfitting risk**        | Slight underfitting (small FP spike) | Slight overfitting (perfect on train) |\n",
        "\n",
        "\n"
      ],
      "metadata": {
        "id": "Nej_EOUxaDNz"
      }
    },
    {
      "cell_type": "markdown",
      "source": [
        "# I will save XGBoost over Random Forest model because it has:\n",
        "\n",
        "Best ROC AUC-best at ranking fraud vs non-fraud\n",
        "\n",
        "Strong recall\n",
        "\n",
        "Very competitive accuracy"
      ],
      "metadata": {
        "id": "j7vv9tyyay7K"
      }
    },
    {
      "cell_type": "code",
      "source": [
        "import pickle\n",
        "\n",
        "\n",
        "with open(\"best_model_xgboost.pkl\", \"wb\") as f:\n",
        "    pickle.dump(xgb, f)\n",
        "pred_df = pd.DataFrame({'True_Label': y_val, 'Predicted': xgb.predict(X_val_scaled)})\n",
        "pred_df.to_csv(\"xgboost_predictions.csv\", index=False)\n"
      ],
      "metadata": {
        "id": "y7c0qu7faYvZ"
      },
      "execution_count": 46,
      "outputs": []
    },
    {
      "cell_type": "markdown",
      "source": [
        "#Key Fraud Predictors Identification"
      ],
      "metadata": {
        "id": "pnL17BLSdSul"
      }
    },
    {
      "cell_type": "code",
      "source": [
        "#Random Forest\n",
        "\n",
        "rf_importances = rf.feature_importances_\n",
        "rf_features = X.columns\n",
        "\n",
        "plt.figure(figsize=(10,6))\n",
        "indices = np.argsort(rf_importances)[::-1]\n",
        "plt.title(\"Random Forest Feature Importances\")\n",
        "plt.bar(range(len(rf_importances)), rf_importances[indices], color='skyblue', align='center')\n",
        "plt.xticks(range(len(rf_importances)), rf_features[indices], rotation=90)\n",
        "plt.tight_layout()\n",
        "plt.show()\n"
      ],
      "metadata": {
        "colab": {
          "base_uri": "https://localhost:8080/",
          "height": 607
        },
        "id": "2Qx-_zhodT4z",
        "outputId": "65037447-e488-412c-a8a3-a7be6a774058"
      },
      "execution_count": 49,
      "outputs": [
        {
          "output_type": "display_data",
          "data": {
            "text/plain": [
              "<Figure size 1000x600 with 1 Axes>"
            ],
            "image/png": "[encoded data removed]"
          },
          "metadata": {}
        }
      ]
    },
    {
      "cell_type": "code",
      "source": [
        "#in numbers\n",
        "rf_importances = rf.feature_importances_\n",
        "rf_features = X.columns\n",
        "\n",
        "rf_feat_imp_df = pd.DataFrame({\n",
        "    'Feature': rf_features,\n",
        "    'Importance': rf_importances\n",
        "}).sort_values(by='Importance', ascending=False)\n",
        "\n",
        "print(\"Random Forest Feature Importances:\\n\")\n",
        "print(rf_feat_imp_df)\n"
      ],
      "metadata": {
        "colab": {
          "base_uri": "https://localhost:8080/"
        },
        "id": "cMVNdPC2eJBK",
        "outputId": "afc05873-9e09-4097-d307-8a25746e0daa"
      },
      "execution_count": 52,
      "outputs": [
        {
          "output_type": "stream",
          "name": "stdout",
          "text": [
            "Random Forest Feature Importances:\n",
            "\n",
            "            Feature  Importance\n",
            "8  errorBalanceOrig        0.40\n",
            "4    newbalanceOrig        0.20\n",
            "3     oldbalanceOrg        0.17\n",
            "1              type        0.09\n",
            "2            amount        0.08\n",
            "9  errorBalanceDest        0.02\n",
            "5    oldbalanceDest        0.02\n",
            "6    newbalanceDest        0.01\n",
            "0              step        0.01\n",
            "7    isFlaggedFraud        0.00\n"
          ]
        }
      ]
    },
    {
      "cell_type": "code",
      "source": [
        "# XGBoost\n",
        "xgb_importances = xgb.feature_importances_\n",
        "xgb_features = X.columns\n",
        "\n",
        "plt.figure(figsize=(10,6))\n",
        "indices = np.argsort(xgb_importances)[::-1]\n",
        "plt.title(\"XGBoost Feature Importances\")\n",
        "plt.bar(range(len(xgb_importances)), xgb_importances[indices], color='orange', align='center')\n",
        "plt.xticks(range(len(xgb_importances)), xgb_features[indices], rotation=90)\n",
        "plt.tight_layout()\n",
        "plt.show()\n"
      ],
      "metadata": {
        "colab": {
          "base_uri": "https://localhost:8080/",
          "height": 607
        },
        "id": "fLIVCH-udlGC",
        "outputId": "119ae6e4-2166-4aeb-e240-37378c48b419"
      },
      "execution_count": 50,
      "outputs": [
        {
          "output_type": "display_data",
          "data": {
            "text/plain": [
              "<Figure size 1000x600 with 1 Axes>"
            ],
            "image/png": "[encoded data removed]"
          },
          "metadata": {}
        }
      ]
    },
    {
      "cell_type": "code",
      "source": [
        "xgb_importances = xgb.feature_importances_\n",
        "xgb_features = X.columns\n",
        "\n",
        "xgb_feat_imp_df = pd.DataFrame({\n",
        "    'Feature': xgb_features,\n",
        "    'Importance': xgb_importances\n",
        "}).sort_values(by='Importance', ascending=False)\n",
        "\n",
        "print(\"\\nXGBoost Feature Importances:\\n\")\n",
        "print(xgb_feat_imp_df)\n"
      ],
      "metadata": {
        "colab": {
          "base_uri": "https://localhost:8080/"
        },
        "id": "npEm3_gReto-",
        "outputId": "8a387548-a139-4c0d-a571-db1b394e3f10"
      },
      "execution_count": 53,
      "outputs": [
        {
          "output_type": "stream",
          "name": "stdout",
          "text": [
            "\n",
            "XGBoost Feature Importances:\n",
            "\n",
            "            Feature  Importance\n",
            "8  errorBalanceOrig        0.62\n",
            "4    newbalanceOrig        0.35\n",
            "2            amount        0.01\n",
            "1              type        0.00\n",
            "9  errorBalanceDest        0.00\n",
            "6    newbalanceDest        0.00\n",
            "3     oldbalanceOrg        0.00\n",
            "0              step        0.00\n",
            "5    oldbalanceDest        0.00\n",
            "7    isFlaggedFraud        0.00\n"
          ]
        }
      ]
    },
    {
      "cell_type": "markdown",
      "source": [
        "#Predict on 10 Random Samples"
      ],
      "metadata": {
        "id": "URyYfTGno5sv"
      }
    },
    {
      "cell_type": "code",
      "source": [
        "sample_indices = np.random.choice(X_val_scaled.shape[0], size=10, replace=False)\n",
        "X_sample = X_val_scaled[sample_indices]\n",
        "y_sample_true = y_val.iloc[sample_indices].reset_index(drop=True)\n",
        "y_sample_pred = xgb.predict(X_sample)\n",
        "y_sample_proba = xgb.predict_proba(X_sample)[:, 1]\n",
        "prediction_df = pd.DataFrame(X_sample, columns=X_val.columns)\n",
        "prediction_df['True_Label'] = y_sample_true\n",
        "prediction_df['Predicted_Label'] = y_sample_pred\n",
        "prediction_df['Fraud_Probability'] = y_sample_proba.round(4)\n",
        "print(\"🔎 XGBoost Predictions on 10 Random Samples:\")\n",
        "display(prediction_df)\n"
      ],
      "metadata": {
        "colab": {
          "base_uri": "https://localhost:8080/",
          "height": 400
        },
        "id": "lrs6Fk2co4vA",
        "outputId": "473d365d-da93-4846-af41-54bce6d28bd7"
      },
      "execution_count": 57,
      "outputs": [
        {
          "output_type": "stream",
          "name": "stdout",
          "text": [
            "🔎 XGBoost Predictions on 10 Random Samples:\n"
          ]
        },
        {
          "output_type": "display_data",
          "data": {
            "text/plain": [
              "   step  type  amount  oldbalanceOrg  newbalanceOrig  oldbalanceDest  \\\n",
              "0 -1.54 -0.46    2.09          -0.51           -0.64           -0.44   \n",
              "1  0.75  1.55   -0.37           1.91            1.95           -0.46   \n",
              "2  1.80  1.55    0.12           0.53            1.35           -0.72   \n",
              "3  0.92  0.21   -0.73          -0.71           -0.64            1.43   \n",
              "4 -0.45 -1.13   -0.88           0.46            0.20           -0.72   \n",
              "5  1.53  0.21    0.32          -0.71           -0.64            1.70   \n",
              "6 -0.60  0.21   -0.45          -0.71           -0.64            1.82   \n",
              "7  0.32  1.55   -0.53          -0.62           -0.18            2.10   \n",
              "8  0.56  0.21    2.53          -0.71           -0.64            2.10   \n",
              "9  1.13 -1.13   -0.89          -0.15           -0.24           -0.72   \n",
              "\n",
              "   newbalanceDest  isFlaggedFraud  errorBalanceOrig  errorBalanceDest  \\\n",
              "0           -0.05            0.00             -1.37             -0.62   \n",
              "1           -0.60            0.00             -0.01              1.79   \n",
              "2           -0.74            0.00             -0.75              1.79   \n",
              "3            1.14            0.00              0.68             -0.62   \n",
              "4           -0.74            0.00              0.81             -0.52   \n",
              "5            1.53            0.00             -0.12             -0.62   \n",
              "6            1.52            0.00              0.47             -0.62   \n",
              "7            2.13            0.00              0.24              1.79   \n",
              "8            2.13            0.00             -2.42             -0.62   \n",
              "9           -0.74            0.00              0.81             -0.57   \n",
              "\n",
              "   True_Label  Predicted_Label  Fraud_Probability  \n",
              "0           0                0               0.00  \n",
              "1           0                0               0.00  \n",
              "2           0                0               0.00  \n",
              "3           0                0               0.00  \n",
              "4           0                0               0.00  \n",
              "5           0                0               0.00  \n",
              "6           0                0               0.00  \n",
              "7           0                0               0.00  \n",
              "8           0                0               0.00  \n",
              "9           0                0               0.00  "
            ],
            "text/html": [
              "\n",
              "  <div id=\"df-905ec8f9-529e-4a64-9c4a-3d8534466fb5\" class=\"colab-df-container\">\n",
              "    <div>\n",
              "<style scoped>\n",
              "    .dataframe tbody tr th:only-of-type {\n",
              "        vertical-align: middle;\n",
              "    }\n",
              "\n",
              "    .dataframe tbody tr th {\n",
              "        vertical-align: top;\n",
              "    }\n",
              "\n",
              "    .dataframe thead th {\n",
              "        text-align: right;\n",
              "    }\n",
              "</style>\n",
              "<table border=\"1\" class=\"dataframe\">\n",
              "  <thead>\n",
              "    <tr style=\"text-align: right;\">\n",
              "      <th></th>\n",
              "      <th>step</th>\n",
              "      <th>type</th>\n",
              "      <th>amount</th>\n",
              "      <th>oldbalanceOrg</th>\n",
              "      <th>newbalanceOrig</th>\n",
              "      <th>oldbalanceDest</th>\n",
              "      <th>newbalanceDest</th>\n",
              "      <th>isFlaggedFraud</th>\n",
              "      <th>errorBalanceOrig</th>\n",
              "      <th>errorBalanceDest</th>\n",
              "      <th>True_Label</th>\n",
              "      <th>Predicted_Label</th>\n",
              "      <th>Fraud_Probability</th>\n",
              "    </tr>\n",
              "  </thead>\n",
              "  <tbody>\n",
              "    <tr>\n",
              "      <th>0</th>\n",
              "      <td>-1.54</td>\n",
              "      <td>-0.46</td>\n",
              "      <td>2.09</td>\n",
              "      <td>-0.51</td>\n",
              "      <td>-0.64</td>\n",
              "      <td>-0.44</td>\n",
              "      <td>-0.05</td>\n",
              "      <td>0.00</td>\n",
              "      <td>-1.37</td>\n",
              "      <td>-0.62</td>\n",
              "      <td>0</td>\n",
              "      <td>0</td>\n",
              "      <td>0.00</td>\n",
              "    </tr>\n",
              "    <tr>\n",
              "      <th>1</th>\n",
              "      <td>0.75</td>\n",
              "      <td>1.55</td>\n",
              "      <td>-0.37</td>\n",
              "      <td>1.91</td>\n",
              "      <td>1.95</td>\n",
              "      <td>-0.46</td>\n",
              "      <td>-0.60</td>\n",
              "      <td>0.00</td>\n",
              "      <td>-0.01</td>\n",
              "      <td>1.79</td>\n",
              "      <td>0</td>\n",
              "      <td>0</td>\n",
              "      <td>0.00</td>\n",
              "    </tr>\n",
              "    <tr>\n",
              "      <th>2</th>\n",
              "      <td>1.80</td>\n",
              "      <td>1.55</td>\n",
              "      <td>0.12</td>\n",
              "      <td>0.53</td>\n",
              "      <td>1.35</td>\n",
              "      <td>-0.72</td>\n",
              "      <td>-0.74</td>\n",
              "      <td>0.00</td>\n",
              "      <td>-0.75</td>\n",
              "      <td>1.79</td>\n",
              "      <td>0</td>\n",
              "      <td>0</td>\n",
              "      <td>0.00</td>\n",
              "    </tr>\n",
              "    <tr>\n",
              "      <th>3</th>\n",
              "      <td>0.92</td>\n",
              "      <td>0.21</td>\n",
              "      <td>-0.73</td>\n",
              "      <td>-0.71</td>\n",
              "      <td>-0.64</td>\n",
              "      <td>1.43</td>\n",
              "      <td>1.14</td>\n",
              "      <td>0.00</td>\n",
              "      <td>0.68</td>\n",
              "      <td>-0.62</td>\n",
              "      <td>0</td>\n",
              "      <td>0</td>\n",
              "      <td>0.00</td>\n",
              "    </tr>\n",
              "    <tr>\n",
              "      <th>4</th>\n",
              "      <td>-0.45</td>\n",
              "      <td>-1.13</td>\n",
              "      <td>-0.88</td>\n",
              "      <td>0.46</td>\n",
              "      <td>0.20</td>\n",
              "      <td>-0.72</td>\n",
              "      <td>-0.74</td>\n",
              "      <td>0.00</td>\n",
              "      <td>0.81</td>\n",
              "      <td>-0.52</td>\n",
              "      <td>0</td>\n",
              "      <td>0</td>\n",
              "      <td>0.00</td>\n",
              "    </tr>\n",
              "    <tr>\n",
              "      <th>5</th>\n",
              "      <td>1.53</td>\n",
              "      <td>0.21</td>\n",
              "      <td>0.32</td>\n",
              "      <td>-0.71</td>\n",
              "      <td>-0.64</td>\n",
              "      <td>1.70</td>\n",
              "      <td>1.53</td>\n",
              "      <td>0.00</td>\n",
              "      <td>-0.12</td>\n",
              "      <td>-0.62</td>\n",
              "      <td>0</td>\n",
              "      <td>0</td>\n",
              "      <td>0.00</td>\n",
              "    </tr>\n",
              "    <tr>\n",
              "      <th>6</th>\n",
              "      <td>-0.60</td>\n",
              "      <td>0.21</td>\n",
              "      <td>-0.45</td>\n",
              "      <td>-0.71</td>\n",
              "      <td>-0.64</td>\n",
              "      <td>1.82</td>\n",
              "      <td>1.52</td>\n",
              "      <td>0.00</td>\n",
              "      <td>0.47</td>\n",
              "      <td>-0.62</td>\n",
              "      <td>0</td>\n",
              "      <td>0</td>\n",
              "      <td>0.00</td>\n",
              "    </tr>\n",
              "    <tr>\n",
              "      <th>7</th>\n",
              "      <td>0.32</td>\n",
              "      <td>1.55</td>\n",
              "      <td>-0.53</td>\n",
              "      <td>-0.62</td>\n",
              "      <td>-0.18</td>\n",
              "      <td>2.10</td>\n",
              "      <td>2.13</td>\n",
              "      <td>0.00</td>\n",
              "      <td>0.24</td>\n",
              "      <td>1.79</td>\n",
              "      <td>0</td>\n",
              "      <td>0</td>\n",
              "      <td>0.00</td>\n",
              "    </tr>\n",
              "    <tr>\n",
              "      <th>8</th>\n",
              "      <td>0.56</td>\n",
              "      <td>0.21</td>\n",
              "      <td>2.53</td>\n",
              "      <td>-0.71</td>\n",
              "      <td>-0.64</td>\n",
              "      <td>2.10</td>\n",
              "      <td>2.13</td>\n",
              "      <td>0.00</td>\n",
              "      <td>-2.42</td>\n",
              "      <td>-0.62</td>\n",
              "      <td>0</td>\n",
              "      <td>0</td>\n",
              "      <td>0.00</td>\n",
              "    </tr>\n",
              "    <tr>\n",
              "      <th>9</th>\n",
              "      <td>1.13</td>\n",
              "      <td>-1.13</td>\n",
              "      <td>-0.89</td>\n",
              "      <td>-0.15</td>\n",
              "      <td>-0.24</td>\n",
              "      <td>-0.72</td>\n",
              "      <td>-0.74</td>\n",
              "      <td>0.00</td>\n",
              "      <td>0.81</td>\n",
              "      <td>-0.57</td>\n",
              "      <td>0</td>\n",
              "      <td>0</td>\n",
              "      <td>0.00</td>\n",
              "    </tr>\n",
              "  </tbody>\n",
              "</table>\n",
              "</div>\n",
              "    <div class=\"colab-df-buttons\">\n",
              "\n",
              "  <div class=\"colab-df-container\">\n",
              "    <button class=\"colab-df-convert\" onclick=\"convertToInteractive('df-905ec8f9-529e-4a64-9c4a-3d8534466fb5')\"\n",
              "            title=\"Convert this dataframe to an interactive table.\"\n",
              "            style=\"display:none;\">\n",
              "\n",
              "  <svg xmlns=\"http://www.w3.org/2000/svg\" height=\"24px\" viewBox=\"0 -960 960 960\">\n",
              "    <path d=\"M120-120v-720h720v720H120Zm60-500h600v-160H180v160Zm220 220h160v-160H400v160Zm0 220h160v-160H400v160ZM180-400h160v-160H180v160Zm440 0h160v-160H620v160ZM180-180h160v-160H180v160Zm440 0h160v-160H620v160Z\"/>\n",
              "  </svg>\n",
              "    </button>\n",
              "\n",
              "  <style>\n",
              "    .colab-df-container {\n",
              "      display:flex;\n",
              "      gap: 12px;\n",
              "    }\n",
              "\n",
              "    .colab-df-convert {\n",
              "      background-color: #E8F0FE;\n",
              "      border: none;\n",
              "      border-radius: 50%;\n",
              "      cursor: pointer;\n",
              "      display: none;\n",
              "      fill: #1967D2;\n",
              "      height: 32px;\n",
              "      padding: 0 0 0 0;\n",
              "      width: 32px;\n",
              "    }\n",
              "\n",
              "    .colab-df-convert:hover {\n",
              "      background-color: #E2EBFA;\n",
              "      box-shadow: 0px 1px 2px rgba(60, 64, 67, 0.3), 0px 1px 3px 1px rgba(60, 64, 67, 0.15);\n",
              "      fill: #174EA6;\n",
              "    }\n",
              "\n",
              "    .colab-df-buttons div {\n",
              "      margin-bottom: 4px;\n",
              "    }\n",
              "\n",
              "    [theme=dark] .colab-df-convert {\n",
              "      background-color: #3B4455;\n",
              "      fill: #D2E3FC;\n",
              "    }\n",
              "\n",
              "    [theme=dark] .colab-df-convert:hover {\n",
              "      background-color: #434B5C;\n",
              "      box-shadow: 0px 1px 3px 1px rgba(0, 0, 0, 0.15);\n",
              "      filter: drop-shadow(0px 1px 2px rgba(0, 0, 0, 0.3));\n",
              "      fill: #FFFFFF;\n",
              "    }\n",
              "  </style>\n",
              "\n",
              "    <script>\n",
              "      const buttonEl =\n",
              "        document.querySelector('#df-905ec8f9-529e-4a64-9c4a-3d8534466fb5 button.colab-df-convert');\n",
              "      buttonEl.style.display =\n",
              "        google.colab.kernel.accessAllowed ? 'block' : 'none';\n",
              "\n",
              "      async function convertToInteractive(key) {\n",
              "        const element = document.querySelector('#df-905ec8f9-529e-4a64-9c4a-3d8534466fb5');\n",
              "        const dataTable =\n",
              "          await google.colab.kernel.invokeFunction('convertToInteractive',\n",
              "                                                    [key], {});\n",
              "        if (!dataTable) return;\n",
              "\n",
              "        const docLinkHtml = 'Like what you see? Visit the ' +\n",
              "          '<a target=\"_blank\" href=https://colab.research.google.com/notebooks/data_table.ipynb>data table notebook</a>'\n",
              "          + ' to learn more about interactive tables.';\n",
              "        element.innerHTML = '';\n",
              "        dataTable['output_type'] = 'display_data';\n",
              "        await google.colab.output.renderOutput(dataTable, element);\n",
              "        const docLink = document.createElement('div');\n",
              "        docLink.innerHTML = docLinkHtml;\n",
              "        element.appendChild(docLink);\n",
              "      }\n",
              "    </script>\n",
              "  </div>\n",
              "\n",
              "\n",
              "    <div id=\"df-8ab0157e-20b9-4035-a737-0e5ad975fd47\">\n",
              "      <button class=\"colab-df-quickchart\" onclick=\"quickchart('df-8ab0157e-20b9-4035-a737-0e5ad975fd47')\"\n",
              "                title=\"Suggest charts\"\n",
              "                style=\"display:none;\">\n",
              "\n",
              "<svg xmlns=\"http://www.w3.org/2000/svg\" height=\"24px\"viewBox=\"0 0 24 24\"\n",
              "     width=\"24px\">\n",
              "    <g>\n",
              "        <path d=\"M19 3H5c-1.1 0-2 .9-2 2v14c0 1.1.9 2 2 2h14c1.1 0 2-.9 2-2V5c0-1.1-.9-2-2-2zM9 17H7v-7h2v7zm4 0h-2V7h2v10zm4 0h-2v-4h2v4z\"/>\n",
              "    </g>\n",
              "</svg>\n",
              "      </button>\n",
              "\n",
              "<style>\n",
              "  .colab-df-quickchart {\n",
              "      --bg-color: #E8F0FE;\n",
              "      --fill-color: #1967D2;\n",
              "      --hover-bg-color: #E2EBFA;\n",
              "      --hover-fill-color: #174EA6;\n",
              "      --disabled-fill-color: #AAA;\n",
              "      --disabled-bg-color: #DDD;\n",
              "  }\n",
              "\n",
              "  [theme=dark] .colab-df-quickchart {\n",
              "      --bg-color: #3B4455;\n",
              "      --fill-color: #D2E3FC;\n",
              "      --hover-bg-color: #434B5C;\n",
              "      --hover-fill-color: #FFFFFF;\n",
              "      --disabled-bg-color: #3B4455;\n",
              "      --disabled-fill-color: #666;\n",
              "  }\n",
              "\n",
              "  .colab-df-quickchart {\n",
              "    background-color: var(--bg-color);\n",
              "    border: none;\n",
              "    border-radius: 50%;\n",
              "    cursor: pointer;\n",
              "    display: none;\n",
              "    fill: var(--fill-color);\n",
              "    height: 32px;\n",
              "    padding: 0;\n",
              "    width: 32px;\n",
              "  }\n",
              "\n",
              "  .colab-df-quickchart:hover {\n",
              "    background-color: var(--hover-bg-color);\n",
              "    box-shadow: 0 1px 2px rgba(60, 64, 67, 0.3), 0 1px 3px 1px rgba(60, 64, 67, 0.15);\n",
              "    fill: var(--button-hover-fill-color);\n",
              "  }\n",
              "\n",
              "  .colab-df-quickchart-complete:disabled,\n",
              "  .colab-df-quickchart-complete:disabled:hover {\n",
              "    background-color: var(--disabled-bg-color);\n",
              "    fill: var(--disabled-fill-color);\n",
              "    box-shadow: none;\n",
              "  }\n",
              "\n",
              "  .colab-df-spinner {\n",
              "    border: 2px solid var(--fill-color);\n",
              "    border-color: transparent;\n",
              "    border-bottom-color: var(--fill-color);\n",
              "    animation:\n",
              "      spin 1s steps(1) infinite;\n",
              "  }\n",
              "\n",
              "  @keyframes spin {\n",
              "    0% {\n",
              "      border-color: transparent;\n",
              "      border-bottom-color: var(--fill-color);\n",
              "      border-left-color: var(--fill-color);\n",
              "    }\n",
              "    20% {\n",
              "      border-color: transparent;\n",
              "      border-left-color: var(--fill-color);\n",
              "      border-top-color: var(--fill-color);\n",
              "    }\n",
              "    30% {\n",
              "      border-color: transparent;\n",
              "      border-left-color: var(--fill-color);\n",
              "      border-top-color: var(--fill-color);\n",
              "      border-right-color: var(--fill-color);\n",
              "    }\n",
              "    40% {\n",
              "      border-color: transparent;\n",
              "      border-right-color: var(--fill-color);\n",
              "      border-top-color: var(--fill-color);\n",
              "    }\n",
              "    60% {\n",
              "      border-color: transparent;\n",
              "      border-right-color: var(--fill-color);\n",
              "    }\n",
              "    80% {\n",
              "      border-color: transparent;\n",
              "      border-right-color: var(--fill-color);\n",
              "      border-bottom-color: var(--fill-color);\n",
              "    }\n",
              "    90% {\n",
              "      border-color: transparent;\n",
              "      border-bottom-color: var(--fill-color);\n",
              "    }\n",
              "  }\n",
              "</style>\n",
              "\n",
              "      <script>\n",
              "        async function quickchart(key) {\n",
              "          const quickchartButtonEl =\n",
              "            document.querySelector('#' + key + ' button');\n",
              "          quickchartButtonEl.disabled = true;  // To prevent multiple clicks.\n",
              "          quickchartButtonEl.classList.add('colab-df-spinner');\n",
              "          try {\n",
              "            const charts = await google.colab.kernel.invokeFunction(\n",
              "                'suggestCharts', [key], {});\n",
              "          } catch (error) {\n",
              "            console.error('Error during call to suggestCharts:', error);\n",
              "          }\n",
              "          quickchartButtonEl.classList.remove('colab-df-spinner');\n",
              "          quickchartButtonEl.classList.add('colab-df-quickchart-complete');\n",
              "        }\n",
              "        (() => {\n",
              "          let quickchartButtonEl =\n",
              "            document.querySelector('#df-8ab0157e-20b9-4035-a737-0e5ad975fd47 button');\n",
              "          quickchartButtonEl.style.display =\n",
              "            google.colab.kernel.accessAllowed ? 'block' : 'none';\n",
              "        })();\n",
              "      </script>\n",
              "    </div>\n",
              "\n",
              "  <div id=\"id_02ff0383-48d7-4a6f-9213-843d366de9b3\">\n",
              "    <style>\n",
              "      .colab-df-generate {\n",
              "        background-color: #E8F0FE;\n",
              "        border: none;\n",
              "        border-radius: 50%;\n",
              "        cursor: pointer;\n",
              "        display: none;\n",
              "        fill: #1967D2;\n",
              "        height: 32px;\n",
              "        padding: 0 0 0 0;\n",
              "        width: 32px;\n",
              "      }\n",
              "\n",
              "      .colab-df-generate:hover {\n",
              "        background-color: #E2EBFA;\n",
              "        box-shadow: 0px 1px 2px rgba(60, 64, 67, 0.3), 0px 1px 3px 1px rgba(60, 64, 67, 0.15);\n",
              "        fill: #174EA6;\n",
              "      }\n",
              "\n",
              "      [theme=dark] .colab-df-generate {\n",
              "        background-color: #3B4455;\n",
              "        fill: #D2E3FC;\n",
              "      }\n",
              "\n",
              "      [theme=dark] .colab-df-generate:hover {\n",
              "        background-color: #434B5C;\n",
              "        box-shadow: 0px 1px 3px 1px rgba(0, 0, 0, 0.15);\n",
              "        filter: drop-shadow(0px 1px 2px rgba(0, 0, 0, 0.3));\n",
              "        fill: #FFFFFF;\n",
              "      }\n",
              "    </style>\n",
              "    <button class=\"colab-df-generate\" onclick=\"generateWithVariable('prediction_df')\"\n",
              "            title=\"Generate code using this dataframe.\"\n",
              "            style=\"display:none;\">\n",
              "\n",
              "  <svg xmlns=\"http://www.w3.org/2000/svg\" height=\"24px\"viewBox=\"0 0 24 24\"\n",
              "       width=\"24px\">\n",
              "    <path d=\"M7,19H8.4L18.45,9,17,7.55,7,17.6ZM5,21V16.75L18.45,3.32a2,2,0,0,1,2.83,0l1.4,1.43a1.91,1.91,0,0,1,.58,1.4,1.91,1.91,0,0,1-.58,1.4L9.25,21ZM18.45,9,17,7.55Zm-12,3A5.31,5.31,0,0,0,4.9,8.1,5.31,5.31,0,0,0,1,6.5,5.31,5.31,0,0,0,4.9,4.9,5.31,5.31,0,0,0,6.5,1,5.31,5.31,0,0,0,8.1,4.9,5.31,5.31,0,0,0,12,6.5,5.46,5.46,0,0,0,6.5,12Z\"/>\n",
              "  </svg>\n",
              "    </button>\n",
              "    <script>\n",
              "      (() => {\n",
              "      const buttonEl =\n",
              "        document.querySelector('#id_02ff0383-48d7-4a6f-9213-843d366de9b3 button.colab-df-generate');\n",
              "      buttonEl.style.display =\n",
              "        google.colab.kernel.accessAllowed ? 'block' : 'none';\n",
              "\n",
              "      buttonEl.onclick = () => {\n",
              "        google.colab.notebook.generateWithVariable('prediction_df');\n",
              "      }\n",
              "      })();\n",
              "    </script>\n",
              "  </div>\n",
              "\n",
              "    </div>\n",
              "  </div>\n"
            ],
            "application/vnd.google.colaboratory.intrinsic+json": {
              "type": "dataframe",
              "variable_name": "prediction_df",
              "summary": "{\n  \"name\": \"prediction_df\",\n  \"rows\": 10,\n  \"fields\": [\n    {\n      \"column\": \"step\",\n      \"properties\": {\n        \"dtype\": \"number\",\n        \"std\": 1.0341333962682446,\n        \"min\": -1.5361119367557707,\n        \"max\": 1.7991586336357124,\n        \"num_unique_values\": 10,\n        \"samples\": [\n          0.555234877778749,\n          0.7495979646313995,\n          1.5270503120420016\n        ],\n        \"semantic_type\": \"\",\n        \"description\": \"\"\n      }\n    },\n    {\n      \"column\": \"type\",\n      \"properties\": {\n        \"dtype\": \"number\",\n        \"std\": 1.0219009161948711,\n        \"min\": -1.1306984939371452,\n        \"max\": 1.5516604397145493,\n        \"num_unique_values\": 4,\n        \"samples\": [\n          1.5516604397145493,\n          -1.1306984939371452,\n          -0.46010876052422156\n        ],\n        \"semantic_type\": \"\",\n        \"description\": \"\"\n      }\n    },\n    {\n      \"column\": \"amount\",\n      \"properties\": {\n        \"dtype\": \"number\",\n        \"std\": 1.2225544157955681,\n        \"min\": -0.8934375995176936,\n        \"max\": 2.526558967262809,\n        \"num_unique_values\": 10,\n        \"samples\": [\n          2.526558967262809,\n          -0.36706954680436626,\n          0.31639799397804347\n        ],\n        \"semantic_type\": \"\",\n        \"description\": \"\"\n      }\n    },\n    {\n      \"column\": \"oldbalanceOrg\",\n      \"properties\": {\n        \"dtype\": \"number\",\n        \"std\": 0.8606350306218169,\n        \"min\": -0.705086903155064,\n        \"max\": 1.9146317513318902,\n        \"num_unique_values\": 7,\n        \"samples\": [\n          -0.5052548020041298,\n          1.9146317513318902,\n          -0.6157800672339087\n        ],\n        \"semantic_type\": \"\",\n        \"description\": \"\"\n      }\n    },\n    {\n      \"column\": \"newbalanceOrig\",\n      \"properties\": {\n        \"dtype\": \"number\",\n        \"std\": 0.9300410311416395,\n        \"min\": -0.6366748681773031,\n        \"max\": 1.9517220645373647,\n        \"num_unique_values\": 6,\n        \"samples\": [\n          -0.6366748681773031,\n          1.9517220645373647,\n          -0.24236591097745971\n        ],\n        \"semantic_type\": \"\",\n        \"description\": \"\"\n      }\n    },\n    {\n      \"column\": \"oldbalanceDest\",\n      \"properties\": {\n        \"dtype\": \"number\",\n        \"std\": 1.30282364454491,\n        \"min\": -0.7174113873641224,\n        \"max\": 2.0997309653099063,\n        \"num_unique_values\": 7,\n        \"samples\": [\n          -0.4408721957525602,\n          -0.4584568965161414,\n          1.8164069265515135\n        ],\n        \"semantic_type\": \"\",\n        \"description\": \"\"\n      }\n    },\n    {\n      \"column\": \"newbalanceDest\",\n      \"properties\": {\n        \"dtype\": \"number\",\n        \"std\": 1.2446421194601434,\n        \"min\": -0.739279377860306,\n        \"max\": 2.134530601891554,\n        \"num_unique_values\": 7,\n        \"samples\": [\n          -0.04711313326391544,\n          -0.5964636493767193,\n          1.5214901683110624\n        ],\n        \"semantic_type\": \"\",\n        \"description\": \"\"\n      }\n    },\n    {\n      \"column\": \"isFlaggedFraud\",\n      \"properties\": {\n        \"dtype\": \"number\",\n        \"std\": 0.0,\n        \"min\": 0.0,\n        \"max\": 0.0,\n        \"num_unique_values\": 1,\n        \"samples\": [\n          0.0\n        ],\n        \"semantic_type\": \"\",\n        \"description\": \"\"\n      }\n    },\n    {\n      \"column\": \"errorBalanceOrig\",\n      \"properties\": {\n        \"dtype\": \"number\",\n        \"std\": 1.0591077491724037,\n        \"min\": -2.4223976801648046,\n        \"max\": 0.8117255890250931,\n        \"num_unique_values\": 9,\n        \"samples\": [\n          0.24249704330508723\n        ],\n        \"semantic_type\": \"\",\n        \"description\": \"\"\n      }\n    },\n    {\n      \"column\": \"errorBalanceDest\",\n      \"properties\": {\n        \"dtype\": \"number\",\n        \"std\": 1.154605159527674,\n        \"min\": -0.6183988995819484,\n        \"max\": 1.7915129804632917,\n        \"num_unique_values\": 4,\n        \"samples\": [\n          1.7915129804632917\n        ],\n        \"semantic_type\": \"\",\n        \"description\": \"\"\n      }\n    },\n    {\n      \"column\": \"True_Label\",\n      \"properties\": {\n        \"dtype\": \"number\",\n        \"std\": 0,\n        \"min\": 0,\n        \"max\": 0,\n        \"num_unique_values\": 1,\n        \"samples\": [\n          0\n        ],\n        \"semantic_type\": \"\",\n        \"description\": \"\"\n      }\n    },\n    {\n      \"column\": \"Predicted_Label\",\n      \"properties\": {\n        \"dtype\": \"number\",\n        \"std\": 0,\n        \"min\": 0,\n        \"max\": 0,\n        \"num_unique_values\": 1,\n        \"samples\": [\n          0\n        ],\n        \"semantic_type\": \"\",\n        \"description\": \"\"\n      }\n    },\n    {\n      \"column\": \"Fraud_Probability\",\n      \"properties\": {\n        \"dtype\": \"float32\",\n        \"num_unique_values\": 4,\n        \"samples\": [\n          9.999999747378752e-05\n        ],\n        \"semantic_type\": \"\",\n        \"description\": \"\"\n      }\n    }\n  ]\n}"
            }
          },
          "metadata": {}
        }
      ]
    },
    {
      "cell_type": "code",
      "source": [
        "#Checking FRAUD CASES- Selecting 10 known fraud transactions from the validation set\n",
        "\n",
        "fraud_positions = y_val[y_val == 1].sample(10, random_state=42).index\n",
        "X_fraud_samples_raw = X_val.loc[fraud_positions]\n",
        "X_fraud_samples = scaler.transform(X_fraud_samples_raw)\n",
        "y_fraud_true = y_val.loc[fraud_positions].reset_index(drop=True)\n",
        "fraud_preds = xgb.predict(X_fraud_samples)\n",
        "fraud_probs = xgb.predict_proba(X_fraud_samples)[:, 1]\n",
        "fraud_pred_df = pd.DataFrame(X_fraud_samples_raw.reset_index(drop=True))\n",
        "fraud_pred_df['True_Label'] = y_fraud_true\n",
        "fraud_pred_df['Predicted_Label'] = fraud_preds\n",
        "fraud_pred_df['Fraud_Probability'] = fraud_probs.round(4)\n",
        "\n",
        "fraud_pred_df\n",
        "\n"
      ],
      "metadata": {
        "colab": {
          "base_uri": "https://localhost:8080/",
          "height": 383
        },
        "id": "TsuG0oJIpz7J",
        "outputId": "25f1daf2-4fa3-499a-cb95-77b04e920d87"
      },
      "execution_count": 60,
      "outputs": [
        {
          "output_type": "execute_result",
          "data": {
            "text/plain": [
              "    step  type    amount  oldbalanceOrg  newbalanceOrig  oldbalanceDest  \\\n",
              "0 222.00     2 501719.34      268287.94            0.00            0.00   \n",
              "1  65.00     2 174923.28      174923.28            0.00            0.00   \n",
              "2 206.00     1 501719.34      268287.94            0.00            0.00   \n",
              "3 189.00     1  32830.82       32830.82            0.00            0.00   \n",
              "4 320.00     1 148305.30      148305.30            0.00            0.00   \n",
              "5 243.40     2   4676.42        4676.42            0.00            0.00   \n",
              "6 243.40     2  84174.31       84174.31            0.00            0.00   \n",
              "7 523.00     2 160186.79      160186.79            0.00      2357591.77   \n",
              "8  39.00     1 501719.34      268287.94            0.00            0.00   \n",
              "9 146.00     2 501719.34      268287.94            0.00       172225.02   \n",
              "\n",
              "   newbalanceDest  isFlaggedFraud  errorBalanceOrig  errorBalanceDest  \\\n",
              "0      1338487.47               0              0.00            390.52   \n",
              "1       174923.28               0              0.00            390.52   \n",
              "2            0.00               0              0.00            392.28   \n",
              "3            0.00               0              0.00            391.31   \n",
              "4            0.00               0              0.00            392.28   \n",
              "5         4676.42               0              0.00            390.52   \n",
              "6        84174.31               0              0.00            390.52   \n",
              "7      2588370.25               0              0.00            390.52   \n",
              "8            0.00               0              0.00            392.28   \n",
              "9      2779773.12               0              0.00            390.52   \n",
              "\n",
              "   True_Label  Predicted_Label  Fraud_Probability  \n",
              "0           1                1               1.00  \n",
              "1           1                1               1.00  \n",
              "2           1                1               1.00  \n",
              "3           1                1               1.00  \n",
              "4           1                1               1.00  \n",
              "5           1                1               1.00  \n",
              "6           1                1               1.00  \n",
              "7           1                1               1.00  \n",
              "8           1                1               1.00  \n",
              "9           1                1               1.00  "
            ],
            "text/html": [
              "\n",
              "  <div id=\"df-97100b78-8150-4ebd-b23b-759b5b1e957b\" class=\"colab-df-container\">\n",
              "    <div>\n",
              "<style scoped>\n",
              "    .dataframe tbody tr th:only-of-type {\n",
              "        vertical-align: middle;\n",
              "    }\n",
              "\n",
              "    .dataframe tbody tr th {\n",
              "        vertical-align: top;\n",
              "    }\n",
              "\n",
              "    .dataframe thead th {\n",
              "        text-align: right;\n",
              "    }\n",
              "</style>\n",
              "<table border=\"1\" class=\"dataframe\">\n",
              "  <thead>\n",
              "    <tr style=\"text-align: right;\">\n",
              "      <th></th>\n",
              "      <th>step</th>\n",
              "      <th>type</th>\n",
              "      <th>amount</th>\n",
              "      <th>oldbalanceOrg</th>\n",
              "      <th>newbalanceOrig</th>\n",
              "      <th>oldbalanceDest</th>\n",
              "      <th>newbalanceDest</th>\n",
              "      <th>isFlaggedFraud</th>\n",
              "      <th>errorBalanceOrig</th>\n",
              "      <th>errorBalanceDest</th>\n",
              "      <th>True_Label</th>\n",
              "      <th>Predicted_Label</th>\n",
              "      <th>Fraud_Probability</th>\n",
              "    </tr>\n",
              "  </thead>\n",
              "  <tbody>\n",
              "    <tr>\n",
              "      <th>0</th>\n",
              "      <td>222.00</td>\n",
              "      <td>2</td>\n",
              "      <td>501719.34</td>\n",
              "      <td>268287.94</td>\n",
              "      <td>0.00</td>\n",
              "      <td>0.00</td>\n",
              "      <td>1338487.47</td>\n",
              "      <td>0</td>\n",
              "      <td>0.00</td>\n",
              "      <td>390.52</td>\n",
              "      <td>1</td>\n",
              "      <td>1</td>\n",
              "      <td>1.00</td>\n",
              "    </tr>\n",
              "    <tr>\n",
              "      <th>1</th>\n",
              "      <td>65.00</td>\n",
              "      <td>2</td>\n",
              "      <td>174923.28</td>\n",
              "      <td>174923.28</td>\n",
              "      <td>0.00</td>\n",
              "      <td>0.00</td>\n",
              "      <td>174923.28</td>\n",
              "      <td>0</td>\n",
              "      <td>0.00</td>\n",
              "      <td>390.52</td>\n",
              "      <td>1</td>\n",
              "      <td>1</td>\n",
              "      <td>1.00</td>\n",
              "    </tr>\n",
              "    <tr>\n",
              "      <th>2</th>\n",
              "      <td>206.00</td>\n",
              "      <td>1</td>\n",
              "      <td>501719.34</td>\n",
              "      <td>268287.94</td>\n",
              "      <td>0.00</td>\n",
              "      <td>0.00</td>\n",
              "      <td>0.00</td>\n",
              "      <td>0</td>\n",
              "      <td>0.00</td>\n",
              "      <td>392.28</td>\n",
              "      <td>1</td>\n",
              "      <td>1</td>\n",
              "      <td>1.00</td>\n",
              "    </tr>\n",
              "    <tr>\n",
              "      <th>3</th>\n",
              "      <td>189.00</td>\n",
              "      <td>1</td>\n",
              "      <td>32830.82</td>\n",
              "      <td>32830.82</td>\n",
              "      <td>0.00</td>\n",
              "      <td>0.00</td>\n",
              "      <td>0.00</td>\n",
              "      <td>0</td>\n",
              "      <td>0.00</td>\n",
              "      <td>391.31</td>\n",
              "      <td>1</td>\n",
              "      <td>1</td>\n",
              "      <td>1.00</td>\n",
              "    </tr>\n",
              "    <tr>\n",
              "      <th>4</th>\n",
              "      <td>320.00</td>\n",
              "      <td>1</td>\n",
              "      <td>148305.30</td>\n",
              "      <td>148305.30</td>\n",
              "      <td>0.00</td>\n",
              "      <td>0.00</td>\n",
              "      <td>0.00</td>\n",
              "      <td>0</td>\n",
              "      <td>0.00</td>\n",
              "      <td>392.28</td>\n",
              "      <td>1</td>\n",
              "      <td>1</td>\n",
              "      <td>1.00</td>\n",
              "    </tr>\n",
              "    <tr>\n",
              "      <th>5</th>\n",
              "      <td>243.40</td>\n",
              "      <td>2</td>\n",
              "      <td>4676.42</td>\n",
              "      <td>4676.42</td>\n",
              "      <td>0.00</td>\n",
              "      <td>0.00</td>\n",
              "      <td>4676.42</td>\n",
              "      <td>0</td>\n",
              "      <td>0.00</td>\n",
              "      <td>390.52</td>\n",
              "      <td>1</td>\n",
              "      <td>1</td>\n",
              "      <td>1.00</td>\n",
              "    </tr>\n",
              "    <tr>\n",
              "      <th>6</th>\n",
              "      <td>243.40</td>\n",
              "      <td>2</td>\n",
              "      <td>84174.31</td>\n",
              "      <td>84174.31</td>\n",
              "      <td>0.00</td>\n",
              "      <td>0.00</td>\n",
              "      <td>84174.31</td>\n",
              "      <td>0</td>\n",
              "      <td>0.00</td>\n",
              "      <td>390.52</td>\n",
              "      <td>1</td>\n",
              "      <td>1</td>\n",
              "      <td>1.00</td>\n",
              "    </tr>\n",
              "    <tr>\n",
              "      <th>7</th>\n",
              "      <td>523.00</td>\n",
              "      <td>2</td>\n",
              "      <td>160186.79</td>\n",
              "      <td>160186.79</td>\n",
              "      <td>0.00</td>\n",
              "      <td>2357591.77</td>\n",
              "      <td>2588370.25</td>\n",
              "      <td>0</td>\n",
              "      <td>0.00</td>\n",
              "      <td>390.52</td>\n",
              "      <td>1</td>\n",
              "      <td>1</td>\n",
              "      <td>1.00</td>\n",
              "    </tr>\n",
              "    <tr>\n",
              "      <th>8</th>\n",
              "      <td>39.00</td>\n",
              "      <td>1</td>\n",
              "      <td>501719.34</td>\n",
              "      <td>268287.94</td>\n",
              "      <td>0.00</td>\n",
              "      <td>0.00</td>\n",
              "      <td>0.00</td>\n",
              "      <td>0</td>\n",
              "      <td>0.00</td>\n",
              "      <td>392.28</td>\n",
              "      <td>1</td>\n",
              "      <td>1</td>\n",
              "      <td>1.00</td>\n",
              "    </tr>\n",
              "    <tr>\n",
              "      <th>9</th>\n",
              "      <td>146.00</td>\n",
              "      <td>2</td>\n",
              "      <td>501719.34</td>\n",
              "      <td>268287.94</td>\n",
              "      <td>0.00</td>\n",
              "      <td>172225.02</td>\n",
              "      <td>2779773.12</td>\n",
              "      <td>0</td>\n",
              "      <td>0.00</td>\n",
              "      <td>390.52</td>\n",
              "      <td>1</td>\n",
              "      <td>1</td>\n",
              "      <td>1.00</td>\n",
              "    </tr>\n",
              "  </tbody>\n",
              "</table>\n",
              "</div>\n",
              "    <div class=\"colab-df-buttons\">\n",
              "\n",
              "  <div class=\"colab-df-container\">\n",
              "    <button class=\"colab-df-convert\" onclick=\"convertToInteractive('df-97100b78-8150-4ebd-b23b-759b5b1e957b')\"\n",
              "            title=\"Convert this dataframe to an interactive table.\"\n",
              "            style=\"display:none;\">\n",
              "\n",
              "  <svg xmlns=\"http://www.w3.org/2000/svg\" height=\"24px\" viewBox=\"0 -960 960 960\">\n",
              "    <path d=\"M120-120v-720h720v720H120Zm60-500h600v-160H180v160Zm220 220h160v-160H400v160Zm0 220h160v-160H400v160ZM180-400h160v-160H180v160Zm440 0h160v-160H620v160ZM180-180h160v-160H180v160Zm440 0h160v-160H620v160Z\"/>\n",
              "  </svg>\n",
              "    </button>\n",
              "\n",
              "  <style>\n",
              "    .colab-df-container {\n",
              "      display:flex;\n",
              "      gap: 12px;\n",
              "    }\n",
              "\n",
              "    .colab-df-convert {\n",
              "      background-color: #E8F0FE;\n",
              "      border: none;\n",
              "      border-radius: 50%;\n",
              "      cursor: pointer;\n",
              "      display: none;\n",
              "      fill: #1967D2;\n",
              "      height: 32px;\n",
              "      padding: 0 0 0 0;\n",
              "      width: 32px;\n",
              "    }\n",
              "\n",
              "    .colab-df-convert:hover {\n",
              "      background-color: #E2EBFA;\n",
              "      box-shadow: 0px 1px 2px rgba(60, 64, 67, 0.3), 0px 1px 3px 1px rgba(60, 64, 67, 0.15);\n",
              "      fill: #174EA6;\n",
              "    }\n",
              "\n",
              "    .colab-df-buttons div {\n",
              "      margin-bottom: 4px;\n",
              "    }\n",
              "\n",
              "    [theme=dark] .colab-df-convert {\n",
              "      background-color: #3B4455;\n",
              "      fill: #D2E3FC;\n",
              "    }\n",
              "\n",
              "    [theme=dark] .colab-df-convert:hover {\n",
              "      background-color: #434B5C;\n",
              "      box-shadow: 0px 1px 3px 1px rgba(0, 0, 0, 0.15);\n",
              "      filter: drop-shadow(0px 1px 2px rgba(0, 0, 0, 0.3));\n",
              "      fill: #FFFFFF;\n",
              "    }\n",
              "  </style>\n",
              "\n",
              "    <script>\n",
              "      const buttonEl =\n",
              "        document.querySelector('#df-97100b78-8150-4ebd-b23b-759b5b1e957b button.colab-df-convert');\n",
              "      buttonEl.style.display =\n",
              "        google.colab.kernel.accessAllowed ? 'block' : 'none';\n",
              "\n",
              "      async function convertToInteractive(key) {\n",
              "        const element = document.querySelector('#df-97100b78-8150-4ebd-b23b-759b5b1e957b');\n",
              "        const dataTable =\n",
              "          await google.colab.kernel.invokeFunction('convertToInteractive',\n",
              "                                                    [key], {});\n",
              "        if (!dataTable) return;\n",
              "\n",
              "        const docLinkHtml = 'Like what you see? Visit the ' +\n",
              "          '<a target=\"_blank\" href=https://colab.research.google.com/notebooks/data_table.ipynb>data table notebook</a>'\n",
              "          + ' to learn more about interactive tables.';\n",
              "        element.innerHTML = '';\n",
              "        dataTable['output_type'] = 'display_data';\n",
              "        await google.colab.output.renderOutput(dataTable, element);\n",
              "        const docLink = document.createElement('div');\n",
              "        docLink.innerHTML = docLinkHtml;\n",
              "        element.appendChild(docLink);\n",
              "      }\n",
              "    </script>\n",
              "  </div>\n",
              "\n",
              "\n",
              "    <div id=\"df-eb330546-85a0-4c1b-8795-a1c7ebcca817\">\n",
              "      <button class=\"colab-df-quickchart\" onclick=\"quickchart('df-eb330546-85a0-4c1b-8795-a1c7ebcca817')\"\n",
              "                title=\"Suggest charts\"\n",
              "                style=\"display:none;\">\n",
              "\n",
              "<svg xmlns=\"http://www.w3.org/2000/svg\" height=\"24px\"viewBox=\"0 0 24 24\"\n",
              "     width=\"24px\">\n",
              "    <g>\n",
              "        <path d=\"M19 3H5c-1.1 0-2 .9-2 2v14c0 1.1.9 2 2 2h14c1.1 0 2-.9 2-2V5c0-1.1-.9-2-2-2zM9 17H7v-7h2v7zm4 0h-2V7h2v10zm4 0h-2v-4h2v4z\"/>\n",
              "    </g>\n",
              "</svg>\n",
              "      </button>\n",
              "\n",
              "<style>\n",
              "  .colab-df-quickchart {\n",
              "      --bg-color: #E8F0FE;\n",
              "      --fill-color: #1967D2;\n",
              "      --hover-bg-color: #E2EBFA;\n",
              "      --hover-fill-color: #174EA6;\n",
              "      --disabled-fill-color: #AAA;\n",
              "      --disabled-bg-color: #DDD;\n",
              "  }\n",
              "\n",
              "  [theme=dark] .colab-df-quickchart {\n",
              "      --bg-color: #3B4455;\n",
              "      --fill-color: #D2E3FC;\n",
              "      --hover-bg-color: #434B5C;\n",
              "      --hover-fill-color: #FFFFFF;\n",
              "      --disabled-bg-color: #3B4455;\n",
              "      --disabled-fill-color: #666;\n",
              "  }\n",
              "\n",
              "  .colab-df-quickchart {\n",
              "    background-color: var(--bg-color);\n",
              "    border: none;\n",
              "    border-radius: 50%;\n",
              "    cursor: pointer;\n",
              "    display: none;\n",
              "    fill: var(--fill-color);\n",
              "    height: 32px;\n",
              "    padding: 0;\n",
              "    width: 32px;\n",
              "  }\n",
              "\n",
              "  .colab-df-quickchart:hover {\n",
              "    background-color: var(--hover-bg-color);\n",
              "    box-shadow: 0 1px 2px rgba(60, 64, 67, 0.3), 0 1px 3px 1px rgba(60, 64, 67, 0.15);\n",
              "    fill: var(--button-hover-fill-color);\n",
              "  }\n",
              "\n",
              "  .colab-df-quickchart-complete:disabled,\n",
              "  .colab-df-quickchart-complete:disabled:hover {\n",
              "    background-color: var(--disabled-bg-color);\n",
              "    fill: var(--disabled-fill-color);\n",
              "    box-shadow: none;\n",
              "  }\n",
              "\n",
              "  .colab-df-spinner {\n",
              "    border: 2px solid var(--fill-color);\n",
              "    border-color: transparent;\n",
              "    border-bottom-color: var(--fill-color);\n",
              "    animation:\n",
              "      spin 1s steps(1) infinite;\n",
              "  }\n",
              "\n",
              "  @keyframes spin {\n",
              "    0% {\n",
              "      border-color: transparent;\n",
              "      border-bottom-color: var(--fill-color);\n",
              "      border-left-color: var(--fill-color);\n",
              "    }\n",
              "    20% {\n",
              "      border-color: transparent;\n",
              "      border-left-color: var(--fill-color);\n",
              "      border-top-color: var(--fill-color);\n",
              "    }\n",
              "    30% {\n",
              "      border-color: transparent;\n",
              "      border-left-color: var(--fill-color);\n",
              "      border-top-color: var(--fill-color);\n",
              "      border-right-color: var(--fill-color);\n",
              "    }\n",
              "    40% {\n",
              "      border-color: transparent;\n",
              "      border-right-color: var(--fill-color);\n",
              "      border-top-color: var(--fill-color);\n",
              "    }\n",
              "    60% {\n",
              "      border-color: transparent;\n",
              "      border-right-color: var(--fill-color);\n",
              "    }\n",
              "    80% {\n",
              "      border-color: transparent;\n",
              "      border-right-color: var(--fill-color);\n",
              "      border-bottom-color: var(--fill-color);\n",
              "    }\n",
              "    90% {\n",
              "      border-color: transparent;\n",
              "      border-bottom-color: var(--fill-color);\n",
              "    }\n",
              "  }\n",
              "</style>\n",
              "\n",
              "      <script>\n",
              "        async function quickchart(key) {\n",
              "          const quickchartButtonEl =\n",
              "            document.querySelector('#' + key + ' button');\n",
              "          quickchartButtonEl.disabled = true;  // To prevent multiple clicks.\n",
              "          quickchartButtonEl.classList.add('colab-df-spinner');\n",
              "          try {\n",
              "            const charts = await google.colab.kernel.invokeFunction(\n",
              "                'suggestCharts', [key], {});\n",
              "          } catch (error) {\n",
              "            console.error('Error during call to suggestCharts:', error);\n",
              "          }\n",
              "          quickchartButtonEl.classList.remove('colab-df-spinner');\n",
              "          quickchartButtonEl.classList.add('colab-df-quickchart-complete');\n",
              "        }\n",
              "        (() => {\n",
              "          let quickchartButtonEl =\n",
              "            document.querySelector('#df-eb330546-85a0-4c1b-8795-a1c7ebcca817 button');\n",
              "          quickchartButtonEl.style.display =\n",
              "            google.colab.kernel.accessAllowed ? 'block' : 'none';\n",
              "        })();\n",
              "      </script>\n",
              "    </div>\n",
              "\n",
              "  <div id=\"id_17e2f17d-9819-48ae-9455-5836ca2a963f\">\n",
              "    <style>\n",
              "      .colab-df-generate {\n",
              "        background-color: #E8F0FE;\n",
              "        border: none;\n",
              "        border-radius: 50%;\n",
              "        cursor: pointer;\n",
              "        display: none;\n",
              "        fill: #1967D2;\n",
              "        height: 32px;\n",
              "        padding: 0 0 0 0;\n",
              "        width: 32px;\n",
              "      }\n",
              "\n",
              "      .colab-df-generate:hover {\n",
              "        background-color: #E2EBFA;\n",
              "        box-shadow: 0px 1px 2px rgba(60, 64, 67, 0.3), 0px 1px 3px 1px rgba(60, 64, 67, 0.15);\n",
              "        fill: #174EA6;\n",
              "      }\n",
              "\n",
              "      [theme=dark] .colab-df-generate {\n",
              "        background-color: #3B4455;\n",
              "        fill: #D2E3FC;\n",
              "      }\n",
              "\n",
              "      [theme=dark] .colab-df-generate:hover {\n",
              "        background-color: #434B5C;\n",
              "        box-shadow: 0px 1px 3px 1px rgba(0, 0, 0, 0.15);\n",
              "        filter: drop-shadow(0px 1px 2px rgba(0, 0, 0, 0.3));\n",
              "        fill: #FFFFFF;\n",
              "      }\n",
              "    </style>\n",
              "    <button class=\"colab-df-generate\" onclick=\"generateWithVariable('fraud_pred_df')\"\n",
              "            title=\"Generate code using this dataframe.\"\n",
              "            style=\"display:none;\">\n",
              "\n",
              "  <svg xmlns=\"http://www.w3.org/2000/svg\" height=\"24px\"viewBox=\"0 0 24 24\"\n",
              "       width=\"24px\">\n",
              "    <path d=\"M7,19H8.4L18.45,9,17,7.55,7,17.6ZM5,21V16.75L18.45,3.32a2,2,0,0,1,2.83,0l1.4,1.43a1.91,1.91,0,0,1,.58,1.4,1.91,1.91,0,0,1-.58,1.4L9.25,21ZM18.45,9,17,7.55Zm-12,3A5.31,5.31,0,0,0,4.9,8.1,5.31,5.31,0,0,0,1,6.5,5.31,5.31,0,0,0,4.9,4.9,5.31,5.31,0,0,0,6.5,1,5.31,5.31,0,0,0,8.1,4.9,5.31,5.31,0,0,0,12,6.5,5.46,5.46,0,0,0,6.5,12Z\"/>\n",
              "  </svg>\n",
              "    </button>\n",
              "    <script>\n",
              "      (() => {\n",
              "      const buttonEl =\n",
              "        document.querySelector('#id_17e2f17d-9819-48ae-9455-5836ca2a963f button.colab-df-generate');\n",
              "      buttonEl.style.display =\n",
              "        google.colab.kernel.accessAllowed ? 'block' : 'none';\n",
              "\n",
              "      buttonEl.onclick = () => {\n",
              "        google.colab.notebook.generateWithVariable('fraud_pred_df');\n",
              "      }\n",
              "      })();\n",
              "    </script>\n",
              "  </div>\n",
              "\n",
              "    </div>\n",
              "  </div>\n"
            ],
            "application/vnd.google.colaboratory.intrinsic+json": {
              "type": "dataframe",
              "variable_name": "fraud_pred_df",
              "summary": "{\n  \"name\": \"fraud_pred_df\",\n  \"rows\": 10,\n  \"fields\": [\n    {\n      \"column\": \"step\",\n      \"properties\": {\n        \"dtype\": \"number\",\n        \"std\": 135.94365499475632,\n        \"min\": 39.0,\n        \"max\": 523.0,\n        \"num_unique_values\": 9,\n        \"samples\": [\n          39.0,\n          65.0,\n          243.4\n        ],\n        \"semantic_type\": \"\",\n        \"description\": \"\"\n      }\n    },\n    {\n      \"column\": \"type\",\n      \"properties\": {\n        \"dtype\": \"number\",\n        \"std\": 0,\n        \"min\": 1,\n        \"max\": 2,\n        \"num_unique_values\": 2,\n        \"samples\": [\n          1,\n          2\n        ],\n        \"semantic_type\": \"\",\n        \"description\": \"\"\n      }\n    },\n    {\n      \"column\": \"amount\",\n      \"properties\": {\n        \"dtype\": \"number\",\n        \"std\": 213719.88101541513,\n        \"min\": 4676.42,\n        \"max\": 501719.33875,\n        \"num_unique_values\": 7,\n        \"samples\": [\n          501719.33875,\n          174923.28\n        ],\n        \"semantic_type\": \"\",\n        \"description\": \"\"\n      }\n    },\n    {\n      \"column\": \"oldbalanceOrg\",\n      \"properties\": {\n        \"dtype\": \"number\",\n        \"std\": 101488.52123968182,\n        \"min\": 4676.42,\n        \"max\": 268287.9375,\n        \"num_unique_values\": 7,\n        \"samples\": [\n          268287.9375,\n          174923.28\n        ],\n        \"semantic_type\": \"\",\n        \"description\": \"\"\n      }\n    },\n    {\n      \"column\": \"newbalanceOrig\",\n      \"properties\": {\n        \"dtype\": \"number\",\n        \"std\": 0.0,\n        \"min\": 0.0,\n        \"max\": 0.0,\n        \"num_unique_values\": 1,\n        \"samples\": [\n          0.0\n        ],\n        \"semantic_type\": \"\",\n        \"description\": \"\"\n      }\n    },\n    {\n      \"column\": \"oldbalanceDest\",\n      \"properties\": {\n        \"dtype\": \"number\",\n        \"std\": 741462.7515277275,\n        \"min\": 0.0,\n        \"max\": 2357591.76875,\n        \"num_unique_values\": 3,\n        \"samples\": [\n          0.0\n        ],\n        \"semantic_type\": \"\",\n        \"description\": \"\"\n      }\n    },\n    {\n      \"column\": \"newbalanceDest\",\n      \"properties\": {\n        \"dtype\": \"number\",\n        \"std\": 1125334.4607961138,\n        \"min\": 0.0,\n        \"max\": 2779773.125,\n        \"num_unique_values\": 7,\n        \"samples\": [\n          1338487.47\n        ],\n        \"semantic_type\": \"\",\n        \"description\": \"\"\n      }\n    },\n    {\n      \"column\": \"isFlaggedFraud\",\n      \"properties\": {\n        \"dtype\": \"number\",\n        \"std\": 0,\n        \"min\": 0,\n        \"max\": 0,\n        \"num_unique_values\": 1,\n        \"samples\": [\n          0\n        ],\n        \"semantic_type\": \"\",\n        \"description\": \"\"\n      }\n    },\n    {\n      \"column\": \"errorBalanceOrig\",\n      \"properties\": {\n        \"dtype\": \"number\",\n        \"std\": 0.0,\n        \"min\": 0.0,\n        \"max\": 0.0,\n        \"num_unique_values\": 1,\n        \"samples\": [\n          0.0\n        ],\n        \"semantic_type\": \"\",\n        \"description\": \"\"\n      }\n    },\n    {\n      \"column\": \"errorBalanceDest\",\n      \"properties\": {\n        \"dtype\": \"number\",\n        \"std\": 0.8327507051205819,\n        \"min\": 390.51801651101425,\n        \"max\": 392.279188901246,\n        \"num_unique_values\": 4,\n        \"samples\": [\n          392.279188901246\n        ],\n        \"semantic_type\": \"\",\n        \"description\": \"\"\n      }\n    },\n    {\n      \"column\": \"True_Label\",\n      \"properties\": {\n        \"dtype\": \"number\",\n        \"std\": 0,\n        \"min\": 1,\n        \"max\": 1,\n        \"num_unique_values\": 1,\n        \"samples\": [\n          1\n        ],\n        \"semantic_type\": \"\",\n        \"description\": \"\"\n      }\n    },\n    {\n      \"column\": \"Predicted_Label\",\n      \"properties\": {\n        \"dtype\": \"number\",\n        \"std\": 0,\n        \"min\": 1,\n        \"max\": 1,\n        \"num_unique_values\": 1,\n        \"samples\": [\n          1\n        ],\n        \"semantic_type\": \"\",\n        \"description\": \"\"\n      }\n    },\n    {\n      \"column\": \"Fraud_Probability\",\n      \"properties\": {\n        \"dtype\": \"float32\",\n        \"num_unique_values\": 4,\n        \"samples\": [\n          0.9995999932289124\n        ],\n        \"semantic_type\": \"\",\n        \"description\": \"\"\n      }\n    }\n  ]\n}"
            }
          },
          "metadata": {},
          "execution_count": 60
        }
      ]
    },
    {
      "cell_type": "markdown",
      "source": [
        "This output shows your XGBoost model correctly predicted all 10 known fraud transactions with:\n",
        "\n",
        "Predicted_Label = 1 (Fraud),\n",
        "\n",
        "Fraud_Probability = 1.00, i.e., full confidence.\n",
        "\n",
        "True_Label vs Predicted_Label: All matches (1 == 1) →  perfect recall for this batch.\n",
        "\n",
        "High Confidence: The model is extremely confident about these cases being fraud (probability = 1.00)."
      ],
      "metadata": {
        "id": "7sx5EANcq7eC"
      }
    },
    {
      "cell_type": "markdown",
      "source": [
        "**Key Fraud Predictors:**  \n",
        "Based on feature importance from Random Forest and XGBoost, the most influential variables are:  \n",
        "- `errorBalanceOrig`  \n",
        "- `newbalanceOrig`  \n",
        "- `oldbalanceOrg`  \n",
        "- `amount`  \n",
        "These factors are critical for detecting fraudulent transactions.\n"
      ],
      "metadata": {
        "id": "xS1Yumwtf2_D"
      }
    },
    {
      "cell_type": "markdown",
      "source": [
        "**Meaningfulness of Factors:**  \n",
        "- `errorBalanceOrig`: Reflects discrepancies in the origin account’s balance, often caused by unauthorized activity or system tampering.  \n",
        "- `newbalanceOrig` & `oldbalanceOrg`: Sudden large withdrawals or unusual balance changes typically signal fraudulent behavior.  \n",
        "- `amount`: Fraudulent transactions often involve abnormal or unusually large amounts.  \n",
        "These features align well with known fraud characteristics in financial systems.\n"
      ],
      "metadata": {
        "id": "QHuuQL17f6YN"
      }
    },
    {
      "cell_type": "markdown",
      "source": [
        "**Prevention Recommendations:**  \n",
        "- Implement **real-time transaction monitoring** with automated alerts for suspicious patterns in amount and balance errors.  \n",
        "- Deploy **anomaly detection algorithms** that adapt to new fraud patterns continuously.  \n",
        "- Establish a **human-in-the-loop process** for reviewing flagged transactions to reduce false positives.  \n",
        "- Regularly **update fraud detection rules and models** based on latest trends and attack vectors.  \n",
        "- Incorporate **multi-factor authentication** and enhanced access controls to prevent unauthorized transactions.  \n",
        "- Maintain **audit trails and logging** for all transactions to support investigation and compliance.\n"
      ],
      "metadata": {
        "id": "5UCQ1wqXgH6F"
      }
    },
    {
      "cell_type": "markdown",
      "source": [
        "#Fraud detection model in elaboration\n",
        "\n",
        "I developed a supervised binary classification model to detect fraud (isFraud). The final model was an XGBoost Classifier trained on a SMOTE-ENN resampled dataset to handle severe class imbalance. This model was chosen for its:\n",
        "\n",
        "Ability to capture non-linear patterns\n",
        "\n",
        "Inherent handling of feature importance\n",
        "\n",
        "Robustness to noise via ENN\n",
        "\n",
        "Flexibility through hyperparameter tuning\n",
        "\n",
        "Before XGBoost, we built a baseline Logistic Regression model with class weights to understand feature behavior and establish a reference score along with Random Forest which gave higher precision but low on recall whcih made me decide XGB model over random.\n",
        "\n",
        "\n",
        "# Comparing XGBoost vs Random Forest\n",
        "\n",
        "| Metric                      | ✅ XGBoost                            | ✅ Random Forest                       |\n",
        "| --------------------------- | ------------------------------------ | ------------------------------------- |\n",
        "| **Train Accuracy**          | 99.93%                               | **100.00%**                           |\n",
        "| **Validation Accuracy**     | **99.98%**                           | 99.98%                                |\n",
        "| **ROC AUC**                 | **0.99986** (higher)                 | 0.99908                               |\n",
        "| **Recall (fraud class)**    | **1.00**                             | **1.00**                              |\n",
        "| **Precision (fraud class)** | 0.84                                 | **0.97**                              |\n",
        "| **False Positives**         | **310**                              | 48                                    |\n",
        "| **False Negatives**         | 4                                    | 4                                     |\n",
        "| **Overfitting risk**        | Slight underfitting (small FP spike) | Slight overfitting (perfect on train) |\n",
        "\n",
        "\n"
      ],
      "metadata": {
        "id": "LmRJyw4nhMbq"
      }
    },
    {
      "cell_type": "markdown",
      "source": [
        "**Evaluating Prevention Effectiveness:**  \n",
        "- Monitor **fraud detection rate**: Percentage of fraudulent transactions successfully detected.  \n",
        "- Track **false positive rate**: Number of legitimate transactions incorrectly flagged, aiming to minimize customer inconvenience.  \n",
        "- Measure **transaction processing time** to ensure fraud checks don’t cause delays.  \n",
        "- Collect **customer feedback** to assess impact on user experience.  \n",
        "- Perform regular **model performance evaluations** (ROC AUC, precision, recall) on new data to detect model drift.  \n",
        "- Conduct **periodic audits** and reviews of fraud cases and detection outcomes.  \n",
        "- Continuously retrain and update models using fresh data to maintain accuracy.\n"
      ],
      "metadata": {
        "id": "tMc40C5igViB"
      }
    },
    {
      "cell_type": "markdown",
      "source": [
        "#### **Variables to be included in the model**\n",
        "\n",
        "I followed a structured feature selection process that balanced domain relevance, data distribution, and model compatibility:\n",
        "\n",
        "🗑 Dropped Non-Predictive Columns:\n",
        "\n",
        "nameOrig and nameDest were removed as they are unique identifiers and add no predictive power.\n",
        "\n",
        "isFraud was assigned as the target variable, hence excluded from features.\n",
        "\n",
        "🔄 Encoded Categorical Variable Thoughtfully:\n",
        "\n",
        "The type feature (transaction type) was label encoded instead of one-hot encoded to avoid dimensionality explosion and preserve model efficiency.\n",
        "\n",
        "Given tree-based models (like Random Forest and XGBoost) are not sensitive to ordinal relationships, this encoding sufficed.\n",
        "\n",
        "💰 Retained Financial Features:\n",
        "\n",
        "Key monetary variables such as amount, oldbalanceOrg, newbalanceOrig, oldbalanceDest, and newbalanceDest were retained due to their direct fraud relevance.\n",
        "\n",
        "Engineered features like errorBalanceOrig and errorBalanceDest (capturing balance inconsistencies) were especially important and retained, as they became top predictors in feature importance analysis.\n",
        "\n",
        "📉 Handled Low-Variance and Skewed Columns:\n",
        "\n",
        "Checked for constant/near-constant columns — none were found apart from isFlaggedFraud, which was kept for completeness.\n",
        "\n",
        "Applied skewness analysis and transformations (Box-Cox, Yeo-Johnson) to reduce the impact of extreme distributions and stabilize model performance.\n",
        "\n",
        "📈 Collinearity Consideration (but not elimination):\n",
        "\n",
        "Despite high correlations between some balance-related fields, these were retained due to their individual importance in fraud logic and the fact that tree models are robust to multicollinearity.\n",
        "\n"
      ],
      "metadata": {
        "id": "6c_-ZH0chzly"
      }
    }
  ]
}